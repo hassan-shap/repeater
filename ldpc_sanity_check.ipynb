{
 "cells": [
  {
   "cell_type": "code",
   "execution_count": 1,
   "id": "a4d334d2-62f4-4319-9dd5-fa36005eeb35",
   "metadata": {},
   "outputs": [],
   "source": [
    "import numpy as np\n",
    "import matplotlib.pyplot as plt\n",
    "import networkx as nx\n",
    "from networkx.algorithms import bipartite\n",
    "from networkx.drawing.nx_agraph import write_dot, graphviz_layout\n",
    "import time\n",
    "\n",
    "from EffP import *\n",
    "from QLPDCgen import *\n",
    "from PLmatrix_CSS import *"
   ]
  },
  {
   "cell_type": "code",
   "execution_count": 2,
   "id": "7a9d74a9-6b7a-4833-96dd-bdd9034e8539",
   "metadata": {},
   "outputs": [],
   "source": [
    "from numpy.linalg import matrix_power\n",
    "from numpy.linalg import matrix_rank\n",
    "\n",
    "## adapted from: stackoverflow...\n",
    "def gf2_rank(rows):\n",
    "    \"\"\"\n",
    "    Find rank of a matrix over GF2.\n",
    "    The rows of the matrix are given as nonnegative integers, thought\n",
    "    of as bit-strings.\n",
    "    This function modifies the input list. Use gf2_rank(rows.copy())\n",
    "    instead of gf2_rank(rows) to avoid modifying rows.\n",
    "    \"\"\"\n",
    "    rows_new = []\n",
    "    rank = 0\n",
    "    while rows:\n",
    "        #print(rows)\n",
    "        pivot_row = rows.pop()\n",
    "        #print(pivot_row)\n",
    "        if pivot_row:\n",
    "            rows_new.append(pivot_row)\n",
    "            rank += 1\n",
    "            lsb = pivot_row & -pivot_row\n",
    "            for index, row in enumerate(rows):\n",
    "                if row & lsb:\n",
    "                    rows[index] = row ^ pivot_row\n",
    "    return (rows_new, rank)\n",
    "\n",
    "## transform back to the binary matrix:\n",
    "def Hb_to_H(n,r,H_list):\n",
    "    H_tot = []\n",
    "    for i in range(r):\n",
    "        H_row = []\n",
    "        H_num = H_list[i]\n",
    "        for k in range(n-1,-1,-1):\n",
    "            H_row.append(H_num // (2**k))\n",
    "            H_num = H_num % (2**k)\n",
    "        H_tot.append(H_row)\n",
    "    H_new = np.array(H_tot)\n",
    "    return H_new\n",
    "\n",
    "def GB_gen(l,a_l,b_l):\n",
    "    P_l = np.zeros((l,l),dtype=int)\n",
    "    P_l[0,l-1] = 1\n",
    "    P_l[1:l,0:l-1] = np.eye(l-1, dtype=int)\n",
    "    A_part = np.eye(l, dtype=int)\n",
    "    B_part = np.eye(l, dtype=int)\n",
    "    for k_l in a_l:\n",
    "        A_part += matrix_power(P_l,k_l)\n",
    "    for k_l in b_l:\n",
    "        B_part += matrix_power(P_l,k_l)\n",
    "    A_part = A_part % 2\n",
    "    B_part = B_part % 2\n",
    "    H_X = np.concatenate((A_part, B_part), axis=1)\n",
    "    H_Z = np.concatenate((np.transpose(B_part), np.transpose(A_part)), axis=1)\n",
    "    H_XZ = np.zeros((2*l,4*l), dtype = int)\n",
    "    H_XZ[0:l, 0:2*l] = H_X\n",
    "    H_XZ[l:2*l, 2*l:4*l] = H_Z\n",
    "    return H_XZ"
   ]
  },
  {
   "cell_type": "markdown",
   "id": "ef4dba3e-889d-466e-985f-28beb716b5ae",
   "metadata": {},
   "source": [
    "### [[48, 6, 8]] code"
   ]
  },
  {
   "cell_type": "code",
   "execution_count": 100,
   "id": "3c31a147-4dbb-4aa8-9b6b-2440c8ee6768",
   "metadata": {},
   "outputs": [],
   "source": [
    "l=24\n",
    "n = 48\n",
    "k = 6\n",
    "r = 21\n",
    "H_XZ = GB_gen(l,[2,8,15],[2,12,17])"
   ]
  },
  {
   "cell_type": "markdown",
   "id": "299b4b81-54f1-4742-82d4-113703ed0718",
   "metadata": {
    "tags": []
   },
   "source": [
    "### [[46, 2, 9]] code"
   ]
  },
  {
   "cell_type": "code",
   "execution_count": 2,
   "id": "2938d6b2-02c2-4855-93ea-451b79d316dc",
   "metadata": {},
   "outputs": [],
   "source": [
    "l=23\n",
    "n = 46\n",
    "k = 2\n",
    "r = 22\n",
    "H_XZ = GB_gen(l,[5,8,12],[1,5,7])"
   ]
  },
  {
   "cell_type": "markdown",
   "id": "4ee8eeed-3b13-4d9d-a8c1-c7eec7e2f69c",
   "metadata": {
    "tags": []
   },
   "source": [
    "### [126, 28, 8] code"
   ]
  },
  {
   "cell_type": "code",
   "execution_count": 210,
   "id": "f207b535-cba1-490f-bca6-306bc26ff26b",
   "metadata": {
    "tags": []
   },
   "outputs": [],
   "source": [
    "l=63\n",
    "n = 126\n",
    "k = 28\n",
    "r = 49\n",
    "H_XZ = GB_gen(l,[1,14,16,22],[3,13,20,42])\n"
   ]
  },
  {
   "cell_type": "markdown",
   "id": "22dfe0c6-6504-49b0-9a34-5893583fc17a",
   "metadata": {},
   "source": [
    "### [900, 50, 15] code"
   ]
  },
  {
   "cell_type": "code",
   "execution_count": 151,
   "id": "38730bed-fbf2-473e-b0c8-5e9ff815035c",
   "metadata": {},
   "outputs": [],
   "source": [
    "l=450\n",
    "n = 900\n",
    "k = 50\n",
    "r = 425\n",
    "H_XZ = GB_gen(l,[97,372,425],[50,265,390])"
   ]
  },
  {
   "cell_type": "code",
   "execution_count": 3,
   "id": "b2362069-b202-43b9-8571-04459170ad9e",
   "metadata": {},
   "outputs": [
    {
     "name": "stdout",
     "output_type": "stream",
     "text": [
      "(23, 46) (23, 46)\n",
      "0.0\n",
      "(22, 46) (22, 46)\n",
      "0.0\n"
     ]
    }
   ],
   "source": [
    "Sx_mat = H_XZ[:, 0:n]\n",
    "Sx_mat = Sx_mat[~np.all(Sx_mat == 0, axis=1)]\n",
    "Sz_mat = H_XZ[:, n:]\n",
    "Sz_mat = Sz_mat[~np.all(Sz_mat == 0, axis=1)]\n",
    "print(Sx_mat.shape,Sz_mat.shape)\n",
    "print(np.linalg.norm(Sx_mat@Sz_mat.T %2))\n",
    "\n",
    "from ldpc.mod2 import rank,row_basis,inverse\n",
    "# print(row_basis(Sx_mat).shape)\n",
    "Sx_mat = row_basis(Sx_mat)\n",
    "Sz_mat = row_basis(Sz_mat)\n",
    "print(Sx_mat.shape,Sz_mat.shape)\n",
    "print(np.linalg.norm(Sx_mat@Sz_mat.T %2))\n"
   ]
  },
  {
   "cell_type": "markdown",
   "id": "77e756e6-4075-460a-b5f9-f5263a9574d8",
   "metadata": {},
   "source": [
    "## daoheng's code"
   ]
  },
  {
   "cell_type": "code",
   "execution_count": 195,
   "id": "e3e78a13-fdd7-4edd-9382-32f4d157b7cd",
   "metadata": {},
   "outputs": [
    {
     "name": "stdout",
     "output_type": "stream",
     "text": [
      "(23, 46) (23, 46)\n",
      "22 22\n",
      "(22, 46) (22, 46)\n",
      "0.0\n"
     ]
    }
   ],
   "source": [
    "##########\n",
    "H_X = H_XZ[:, 0:n]\n",
    "H_X = H_X[~np.all(H_X == 0, axis=1)]\n",
    "H_Z = H_XZ[:, n:2*n]\n",
    "H_Z = H_Z[~np.all(H_Z == 0, axis=1)]\n",
    "print(H_X.shape, H_Z.shape)\n",
    "n_row = np.size(H_X,axis=0)\n",
    "H_Xb = []\n",
    "H_Zb = []\n",
    "for i_r in range(n_row):\n",
    "    H_Xb.append(np.sum(H_X[i_r,:]* 2**np.arange(n-1,-1,-1)))\n",
    "    H_Zb.append(np.sum(H_Z[i_r,:]* 2**np.arange(n-1,-1,-1)))\n",
    "\n",
    "H_Xbc = H_Xb.copy()\n",
    "H_Zbc = H_Zb.copy()\n",
    "H_Xb1, RoX = gf2_rank(H_Xbc)\n",
    "H_Zb1, RoZ = gf2_rank(H_Zbc)\n",
    "\n",
    "print(len(H_Xb1),len(H_Zb1))\n",
    "\n",
    "H_X_new = Hb_to_H(n,r,H_Xb1)\n",
    "H_Z_new = Hb_to_H(n,r,H_Zb1)\n",
    "H_XZ = np.zeros((2*r,4*l), dtype = int)\n",
    "H_XZ[0:r, 0:2*l] = H_X_new\n",
    "H_XZ[r:2*r, 2*l:4*l] = H_Z_new\n",
    "\n",
    "Sx_mat = H_XZ[:, 0:n]\n",
    "Sx_mat = Sx_mat[~np.all(Sx_mat == 0, axis=1)]\n",
    "Sz_mat = H_XZ[:, n:2*n]\n",
    "Sz_mat = Sz_mat[~np.all(Sz_mat == 0, axis=1)]\n",
    "Nq_l = np.size(Sx_mat,1) # number of data qubits per layer\n",
    "Ns_l = np.size(Sx_mat,0) # number of stabilizers per layer\n",
    "# print(\"Ns=%d, Nq=%d\" % (Ns_l,Nq_l))\n",
    "print(Sx_mat.shape,Sz_mat.shape)\n",
    "print(np.linalg.norm(Sx_mat@Sz_mat.T %2))\n",
    "# logicals_X = logical_from_Hparity(H_XZ, Nq_l, k, Ns_l)[0]\n",
    "# logicals_Z = logical_from_Hparity(H_XZ, Nq_l, k, Ns_l)[1]\n",
    "# logical_tX = logicals_X[:,0:Nq_l]\n",
    "# logical_tZ = logicals_Z[:,Nq_l:2*Nq_l]\n",
    "##########################################\n",
    "\n",
    "# print(\"X weight: \", np.sum(logicals_Z,axis=1))\n",
    "# print(\"Z weight: \", np.sum(logicals_X,axis=1))\n",
    "\n",
    "# print( np.linalg.norm((Sx_mat@logical_tZ.T) % 2))\n",
    "# print( np.linalg.norm((Sz_mat@logical_tX.T) % 2))"
   ]
  },
  {
   "cell_type": "code",
   "execution_count": 4,
   "id": "aa6c1d3e-36c7-4fb6-a7af-35200c9332aa",
   "metadata": {},
   "outputs": [
    {
     "name": "stdout",
     "output_type": "stream",
     "text": [
      "X weight:  [23 10]\n",
      "Z weight:  [23 15]\n",
      "(2, 46) (2, 46)\n",
      "[[1 0]\n",
      " [0 1]]\n",
      "0.0\n",
      "0.0\n",
      "0.0\n",
      "X weight:  [23 10]\n",
      "Z weight:  [10 15]\n"
     ]
    }
   ],
   "source": [
    "from ldpc.codes import hamming_code\n",
    "from bposd.css import css_code\n",
    "\n",
    "qcode=css_code(hx=Sx_mat,hz=Sz_mat)\n",
    "\n",
    "# print(qcode.hx)\n",
    "# print(qcode.hz)\n",
    "\n",
    "lx=qcode.lx #x logical operators\n",
    "lz=qcode.lz #z logical operators\n",
    "print(\"X weight: \", np.sum(lx,axis=1))\n",
    "print(\"Z weight: \", np.sum(lz,axis=1))\n",
    "\n",
    "# lx[1,:] = (lx[1,:]+lx[0,:])%2\n",
    "lz[0,:] = (lz[1,:]+lz[0,:])%2\n",
    "# lz[3,:] = (lz[3,:]+lz[0,:])%2\n",
    "# lz[5,:] = (lz[5,:]+lz[2,:]+lz[0,:])%2\n",
    "\n",
    "\n",
    "# print(qcode.compute_code_distance())\n",
    "# temp=inverse(lx@lz.T %2)\n",
    "# lx=temp@lx %2\n",
    "    \n",
    "print(lx.shape,lz.shape)\n",
    "\n",
    "print( (lz@lx.T)% 2)\n",
    "# print(lz)\n",
    "print( np.linalg.norm((Sx_mat@Sz_mat.T) % 2))\n",
    "print( np.linalg.norm((Sz_mat@lx.T) % 2))\n",
    "print( np.linalg.norm((Sx_mat@lz.T) % 2))\n",
    "\n",
    "print(\"X weight: \", np.sum(lx,axis=1))\n",
    "print(\"Z weight: \", np.sum(lz,axis=1))"
   ]
  },
  {
   "cell_type": "code",
   "execution_count": 13,
   "id": "e37db016-931e-48b6-9d73-a1b184b9085a",
   "metadata": {},
   "outputs": [
    {
     "name": "stdout",
     "output_type": "stream",
     "text": [
      "[[0 0 1 0 0 1]\n",
      " [1 0 0 0 1 0]\n",
      " [0 1 0 0 0 0]\n",
      " [1 0 0 1 1 0]\n",
      " [0 1 1 0 1 0]\n",
      " [1 0 1 1 0 0]]\n",
      "[[0 1 1 0 1 1]\n",
      " [0 0 1 0 0 1]\n",
      " [1 0 0 1 0 0]\n",
      " [0 1 1 0 1 1]\n",
      " [1 0 1 1 0 0]\n",
      " [1 0 0 1 0 0]]\n"
     ]
    }
   ],
   "source": [
    "print(lz@logical_tX.T %2)\n",
    "print(lx@logical_tZ.T %2)"
   ]
  },
  {
   "cell_type": "code",
   "execution_count": 68,
   "id": "1102c0f5-4b3f-42e6-8d8b-122093cdf1ac",
   "metadata": {},
   "outputs": [],
   "source": [
    "def succ_prob_css_q_resolved_2(B_orig, logicals_in, s_nodes, loss_inds):\n",
    "    ######################################################\n",
    "    ## inputs:\n",
    "    ## B_orig [type: networkx]: stabilizer graph, two kinds of nodes: qubit 1...N and stabilizer s1...s_{Ns}\n",
    "    ## logicals_in [type: list of numpy arrays]: logical operators in every row, columns act on qubits\n",
    "    ## s_nodes [type: list]: list of stabilizer nodes s1...s_{Ns}\n",
    "    ## loss_inds [type: numpy array]: index of erased qubits\n",
    "    #####################\n",
    "    ## output:\n",
    "    ## succ_fail [type: binary value]: 0 (failure), 1(success)\n",
    "    ######################################################\n",
    "    N = np.size(logicals_in,1)\n",
    "    B = B_orig.copy()\n",
    "    logicals = np.copy(logicals_in)\n",
    "    s_nodes_set = set(np.copy(s_nodes))\n",
    "\n",
    "    Ns_remain = len(s_nodes_set) # number of stabilizer generators\n",
    "    q_remain = list(set(B.nodes())-s_nodes_set) # number of qubits (anciall+data)\n",
    "    node_list = list(s_nodes_set) + q_remain  # indices of all nodes in graph\n",
    "    adj_mat_new = nx.to_numpy_array(B, nodelist = node_list) # adjaceny matrix of stabilizer graph\n",
    "    Sx_mat = adj_mat_new[:Ns_remain,Ns_remain:] # stabilizer group matrix\n",
    "\n",
    "    N_logic = np.size(logicals_in,0)\n",
    "    logic_list = np.ones(N_logic)\n",
    "    for i_q, q in enumerate(loss_inds):\n",
    "        ## correct logical operators\n",
    "        logic_remained = np.argwhere(logic_list==1)[:,0]\n",
    "        # print(logic_remained)\n",
    "        # print(np.shape(logicals))\n",
    "        # print(logicals[logic_remained])\n",
    "        logic_removed = correct_logical_q_resolved(q,logicals[logic_remained,:], Sx_mat)\n",
    "        logic_list[logic_remained[logic_removed]] = 0\n",
    "        ## update stabilizer group\n",
    "        ## first: update graph\n",
    "        if q in B:\n",
    "            B, s_nodes_set = modify_graph(q,B,s_nodes_set)\n",
    "        ## second: update stabilizer group matrix\n",
    "            Ns_remain = len(s_nodes_set)\n",
    "            if Ns_remain> 0:\n",
    "                q_remain = list(set(B.nodes())-s_nodes_set)\n",
    "                node_list = list(s_nodes_set) + q_remain\n",
    "                adj_mat_new = nx.to_numpy_matrix(B, nodelist = node_list)\n",
    "                Sx_red = adj_mat_new[:Ns_remain,Ns_remain:]\n",
    "                Sx_mat = np.zeros((Ns_remain,N))\n",
    "                Sx_mat[:,q_remain] = Sx_red\n",
    "            else:\n",
    "                Sx_mat = []\n",
    "                # break\n",
    "    \n",
    "    return logic_list\n",
    "\n",
    "def correct_logical_q_resolved(q,logicals_in, Sx_mat):\n",
    "    logicals = list(np.copy(logicals_in))\n",
    "    logic_removed = []\n",
    "    Ns_remain = np.size(Sx_mat,0)\n",
    "    if len(logicals) == 1:\n",
    "        if logicals[0][q]>0:\n",
    "            if Ns_remain> 0:\n",
    "                st_ind = np.argwhere(Sx_mat[:,q]>0)[:,0]\n",
    "                if len(st_ind)>0:\n",
    "                    logicals[0] = (logicals[0]+Sx_mat[st_ind[0],:]) % 2\n",
    "                else:\n",
    "                    # logicals.pop()\n",
    "                    logic_removed.append(0)\n",
    "            else:\n",
    "                # logicals.pop()\n",
    "                logic_removed.append(0)\n",
    "\n",
    "    else:\n",
    "        for i_log in np.arange(len(logicals)-1,-1,-1):\n",
    "            if logicals[i_log][q]>0:\n",
    "                if Ns_remain> 0:\n",
    "                    st_ind = np.argwhere(Sx_mat[:,q]>0)[:,0]\n",
    "                    if len(st_ind)>0:\n",
    "                        logicals[i_log] = (logicals[i_log]+Sx_mat[st_ind[0],:]) % 2\n",
    "                    else:\n",
    "                        # logicals.pop(i_log)\n",
    "                        logic_removed.append(i_log)\n",
    "                else:\n",
    "                    # logicals.pop(i_log) \n",
    "                    logic_removed.append(i_log)\n",
    "    return logic_removed\n",
    "\n",
    "\n",
    "    "
   ]
  },
  {
   "cell_type": "code",
   "execution_count": null,
   "id": "918cb04b-4889-4d46-8328-51b53e56868a",
   "metadata": {},
   "outputs": [],
   "source": [
    "## with logical operator\n",
    "\n",
    "logical_tZ = lz\n",
    "logical_tX = lx\n",
    "N = np.size(Sx_mat,1) # number of data qubits \n",
    "Ns = np.size(Sx_mat,0) # number of stabilizers \n",
    "\n",
    "## construct stabilizer graph\n",
    "B_orig_X = nx.Graph()\n",
    "B_orig_X.add_nodes_from(np.arange(N))\n",
    "B_orig_Z = nx.Graph()\n",
    "B_orig_Z.add_nodes_from(np.arange(N))\n",
    "s_nodes = [\"s%d\" % s for s in np.arange(Ns)]\n",
    "B_orig_X.add_nodes_from(s_nodes)\n",
    "B_orig_Z.add_nodes_from(s_nodes)\n",
    "\n",
    "for row in range(Ns):\n",
    "    qs_X = np.argwhere(Sx_mat[row,:]>0)[:,0]\n",
    "    B_orig_X.add_edges_from([(\"s%d\" % row, q) for q in qs_X])\n",
    "    qs_Z = np.argwhere(Sz_mat[row,:]>0)[:,0]\n",
    "    B_orig_Z.add_edges_from([(\"s%d\" % row, q) for q in qs_Z])\n",
    "\n",
    "# nx.draw(B_orig_X,  with_labels=True)\n",
    "# plt.show()\n",
    "\n",
    "p_list = np.linspace(0.01,0.99,20)\n",
    "Nrep = 100 # number of MC iterations\n",
    "succ_prob_X = np.zeros((len(p_list),np.size(logical_tX,0)))\n",
    "succ_prob_Z = np.zeros((len(p_list),np.size(logical_tX,0)))\n",
    "# succ_prob_Z = np.zeros(len(p_list))\n",
    "tic = time.time()\n",
    "for i_p, p in enumerate(p_list):\n",
    "    for i_rep in range(Nrep):\n",
    "        loss_inds = np.random.permutation(np.argwhere(np.random.rand(N)<p)[:,0])\n",
    "        # succ_prob_X[i_p] += succ_prob_css_calc(B_orig_X, logical_tX, s_nodes, loss_inds)\n",
    "        # succ_prob_Z[i_p] += succ_prob_css_calc(B_orig_Z, logical_tZ, s_nodes, loss_inds)\n",
    "        succ_prob_X[i_p,:] += succ_prob_css_q_resolved(B_orig_X, logical_tX, s_nodes, loss_inds)\n",
    "        succ_prob_Z[i_p,:] += succ_prob_css_q_resolved(B_orig_Z, logical_tZ, s_nodes, loss_inds)\n",
    "\n",
    "\n",
    "toc = time.time()\n",
    "print(\"Elapsed time %d sec.\" % (toc-tic))\n",
    "succ_prob_X /= Nrep\n",
    "succ_prob_Z /= Nrep"
   ]
  },
  {
   "cell_type": "code",
   "execution_count": 121,
   "id": "6552a1db-1945-43d1-b042-66fb021a33ea",
   "metadata": {},
   "outputs": [
    {
     "data": {
      "image/png": "[encoded data removed]",
      "text/plain": [
       "<Figure size 432x288 with 1 Axes>"
      ]
     },
     "metadata": {
      "needs_background": "light"
     },
     "output_type": "display_data"
    }
   ],
   "source": [
    "# plt.plot(1-p_list,succ_prob_X,\"o\",label=\"X\")\n",
    "# plt.plot(1-p_list,succ_prob_Z,\"x\",label=\"Z\")\n",
    "\n",
    "succ_prob = succ_prob_X*succ_prob_Z\n",
    "succ_prob_avg = np.mean(succ_prob,axis=1)\n",
    "s_err = np.std(succ_prob,axis=1)/8**0.5\n",
    "# print(s_err/succ_prob_avg)\n",
    "# s_err = (succ_prob_avg*(1-succ_prob_avg)/8)**0.5\n",
    "# print(s_err/succ_prob_avg)\n",
    "# xzerr = ((xerr/succ_prob_X_avg)**2+(zerr/succ_prob_Z_avg)**2)**0.5* succ_prob_avg\n",
    "\n",
    "plt.plot(1-p_list,succ_prob_avg)\n",
    "plt.plot(1-p_list,succ_prob,\".\")\n",
    "# plt.fill_between(1-p_list,np.amin(succ_prob,axis=1),np.amax(succ_prob,axis=1), alpha=0.5)\n",
    "\n",
    "\n",
    "# plt.plot(1-p_list,succ_prob_Z,\"x\",label=\"Z\")\n",
    "# f = lambda x: x**5 + 5* x**4* (1-x) + 5*2*x**3 * (1-x)**2\n",
    "# plt.plot(1-p_list,f(1-p_list),\"-\")\n",
    "plt.plot(1-p_list,1-p_list,\"k--\")\n",
    "x0 = 1-1/2\n",
    "plt.plot([x0,x0],[0,1],\"k--\")\n",
    "plt.title(\"48-q code\")\n",
    "# plt.legend()\n",
    "plt.show()"
   ]
  },
  {
   "cell_type": "code",
   "execution_count": 52,
   "id": "cbbdc61c-2791-42b2-85b4-04bd029e3641",
   "metadata": {},
   "outputs": [
    {
     "data": {
      "image/png": "[encoded data removed]",
      "text/plain": [
       "<Figure size 432x288 with 1 Axes>"
      ]
     },
     "metadata": {
      "needs_background": "light"
     },
     "output_type": "display_data"
    }
   ],
   "source": [
    "plt.plot(1-p_list,succ_prob_X,\"o-\",label=\"X\")\n",
    "plt.plot(1-p_list,succ_prob_Z,\"x\",label=\"Z\")\n",
    "f = lambda x: x**5 + 5* x**4* (1-x) + 5*2*x**3 * (1-x)**2\n",
    "plt.plot(1-p_list,f(1-p_list),\"-\")\n",
    "plt.plot(1-p_list,1-p_list,\"k--\")\n",
    "x0 = 1-1/2\n",
    "plt.plot([x0,x0],[0,1],\"k--\")\n",
    "plt.title(\"48-q code\")\n",
    "plt.legend()\n",
    "plt.show()"
   ]
  },
  {
   "cell_type": "code",
   "execution_count": 72,
   "id": "e9cc893c-31fd-4e88-ad3d-f454ff7d13d2",
   "metadata": {},
   "outputs": [
    {
     "data": {
      "image/png": "[encoded data removed]",
      "text/plain": [
       "<Figure size 432x288 with 1 Axes>"
      ]
     },
     "metadata": {
      "needs_background": "light"
     },
     "output_type": "display_data"
    }
   ],
   "source": [
    "plt.plot(1-p_list,succ_prob_X,\"o-\",label=\"X\")\n",
    "plt.plot(1-p_list,succ_prob_Z,\"x\",label=\"Z\")\n",
    "f = lambda x: x**5 + 5* x**4* (1-x) + 5*2*x**3 * (1-x)**2\n",
    "plt.plot(1-p_list,f(1-p_list),\"-\")\n",
    "plt.plot(1-p_list,1-p_list,\"k--\")\n",
    "x0 = 1-1/2\n",
    "plt.plot([x0,x0],[0,1],\"k--\")\n",
    "plt.title(\"46-q code\")\n",
    "plt.legend()\n",
    "plt.show()"
   ]
  },
  {
   "cell_type": "code",
   "execution_count": null,
   "id": "1d358838-9995-48a8-a500-b75464faa5d5",
   "metadata": {},
   "outputs": [],
   "source": [
    "# plt.plot(1-p_list,succ_prob_X,\"o\",label=\"X\")\n",
    "# plt.plot(1-p_list,succ_prob_Z,\"x\",label=\"Z\")\n",
    "\n",
    "succ_prob = succ_prob_X*succ_prob_Z\n",
    "succ_prob_avg = np.mean(succ_prob,axis=1)\n",
    "s_err = np.std(succ_prob,axis=1)/8**0.5\n",
    "# print(s_err/succ_prob_avg)\n",
    "# s_err = (succ_prob_avg*(1-succ_prob_avg)/8)**0.5\n",
    "# print(s_err/succ_prob_avg)\n",
    "# xzerr = ((xerr/succ_prob_X_avg)**2+(zerr/succ_prob_Z_avg)**2)**0.5* succ_prob_avg\n",
    "\n",
    "plt.plot(1-p_list,succ_prob_avg)\n",
    "plt.plot(1-p_list,succ_prob,\".\")\n",
    "# plt.fill_between(1-p_list,np.amin(succ_prob,axis=1),np.amax(succ_prob,axis=1), alpha=0.5)\n",
    "\n",
    "\n",
    "# plt.plot(1-p_list,succ_prob_Z,\"x\",label=\"Z\")\n",
    "# f = lambda x: x**5 + 5* x**4* (1-x) + 5*2*x**3 * (1-x)**2\n",
    "# plt.plot(1-p_list,f(1-p_list),\"-\")\n",
    "plt.plot(1-p_list,1-p_list,\"k--\")\n",
    "x0 = 1-1/2\n",
    "plt.plot([x0,x0],[0,1],\"k--\")\n",
    "plt.title(\"46-q code\")\n",
    "# plt.legend()\n",
    "plt.show()"
   ]
  },
  {
   "cell_type": "code",
   "execution_count": 209,
   "id": "f6f4c4f2-1222-4aa6-955c-370be5a4e811",
   "metadata": {},
   "outputs": [
    {
     "data": {
      "image/png": "[encoded data removed]",
      "text/plain": [
       "<Figure size 432x288 with 1 Axes>"
      ]
     },
     "metadata": {
      "needs_background": "light"
     },
     "output_type": "display_data"
    }
   ],
   "source": [
    "plt.plot(1-p_list,succ_prob_X,\"o-\",label=\"X\")\n",
    "plt.plot(1-p_list,succ_prob_Z,\"x\",label=\"Z\")\n",
    "f = lambda x: x**5 + 5* x**4* (1-x) + 5*2*x**3 * (1-x)**2\n",
    "plt.plot(1-p_list,f(1-p_list),\"-\")\n",
    "plt.plot(1-p_list,1-p_list,\"k--\")\n",
    "x0 = 1-1/2\n",
    "plt.plot([x0,x0],[0,1],\"k--\")\n",
    "plt.title(\"126-q code\")\n",
    "plt.legend()\n",
    "plt.show()"
   ]
  },
  {
   "cell_type": "code",
   "execution_count": 155,
   "id": "329ed716-255c-4f3f-b5c4-312f794abd27",
   "metadata": {},
   "outputs": [
    {
     "data": {
      "image/png": "[encoded data removed]",
      "text/plain": [
       "<Figure size 432x288 with 1 Axes>"
      ]
     },
     "metadata": {
      "needs_background": "light"
     },
     "output_type": "display_data"
    }
   ],
   "source": [
    "plt.plot(1-p_list,succ_prob_X,\"o-\",label=\"X\")\n",
    "plt.plot(1-p_list,succ_prob_Z,\"x\",label=\"Z\")\n",
    "f = lambda x: x**5 + 5* x**4* (1-x) + 5*2*x**3 * (1-x)**2\n",
    "plt.plot(1-p_list,f(1-p_list),\"-\")\n",
    "plt.plot(1-p_list,1-p_list,\"k--\")\n",
    "x0 = 1-1/2\n",
    "plt.plot([x0,x0],[0,1],\"k--\")\n",
    "plt.title(\"900-q code\")\n",
    "plt.legend()\n",
    "plt.show()"
   ]
  },
  {
   "cell_type": "code",
   "execution_count": null,
   "id": "c88d3981-ee6a-4c2b-b2da-6e87c788fd88",
   "metadata": {},
   "outputs": [],
   "source": []
  }
 ],
 "metadata": {
  "kernelspec": {
   "display_name": "Python 3 (ipykernel)",
   "language": "python",
   "name": "python3"
  },
  "language_info": {
   "codemirror_mode": {
    "name": "ipython",
    "version": 3
   },
   "file_extension": ".py",
   "mimetype": "text/x-python",
   "name": "python",
   "nbconvert_exporter": "python",
   "pygments_lexer": "ipython3",
   "version": "3.9.12"
  }
 },
 "nbformat": 4,
 "nbformat_minor": 5
}
