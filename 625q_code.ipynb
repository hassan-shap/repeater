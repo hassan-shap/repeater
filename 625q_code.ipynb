{
 "cells": [
  {
   "cell_type": "code",
   "execution_count": 18,
   "id": "60d7df28",
   "metadata": {},
   "outputs": [
    {
     "name": "stdout",
     "output_type": "stream",
     "text": [
      "[3 3 3 3 3 3 3 3 3 3 3 3 3 3 3 3 3 3 3 3]\n",
      "[4 4 4 4 4 4 4 4 4 4 4 4 4 4 4]\n",
      "<Unnamed CSS code>, (4,7)-[[625,25,6]]\n",
      " -Block dimensions: Pass\n",
      " -PCMs commute hz@hx.T==0: Pass\n",
      " -PCMs commute hx@hz.T==0: Pass\n",
      " -lx \\in ker{hz} AND lz \\in ker{hx}: Pass\n",
      " -lx and lz anticommute: Pass\n",
      " -<Unnamed CSS code> is a valid CSS code w/ params (4,7)-[[625,25,6]]\n"
     ]
    }
   ],
   "source": [
    "import numpy as np\n",
    "from bposd.hgp import hgp\n",
    "from ldpc.code_util import get_code_parameters\n",
    "H=np.array([\\\n",
    "            [1, 0, 0, 0, 1, 1, 0, 0, 0, 0, 0, 0, 0, 0, 0, 0,1,0,0,0],\n",
    "            [0, 0, 0, 0, 0, 0, 1, 1, 0, 0, 0, 0, 1, 0, 0, 0,0,1,0,0],\n",
    "            [0, 0, 0, 1, 1, 0, 0, 0, 0, 0, 0, 0, 0, 1, 0, 0,0,0,1,0],\n",
    "            [0, 0, 0, 0, 0, 1, 0, 0, 1, 0, 0, 0, 0, 0, 0, 1,0,0,0,1],\n",
    "            [0, 1, 0, 0, 0, 0, 0, 0, 1, 0, 0, 1, 0, 0, 0, 0,1,0,0,0],\n",
    "            [0, 0, 0, 0, 0, 0, 0, 0, 1, 0, 0, 0, 1, 0, 1, 0,0,1,0,0],\n",
    "            [0, 0, 0, 0, 0, 0, 0, 1, 0, 0, 0, 0, 0, 1, 0, 1,0,0,1,0],\n",
    "            [0, 0, 0, 1, 0, 1, 0, 0, 0, 0, 1, 0, 0, 0, 0, 0,0,0,0,1],\n",
    "            [0, 0, 1, 0, 0, 0, 0, 0, 0, 0, 0, 1, 0, 0, 0, 1,1,0,0,0],\n",
    "            [0, 0, 0, 0, 1, 0, 0, 0, 0, 1, 1, 0, 0, 0, 0, 0,0,1,0,0],\n",
    "            [0, 1, 0, 0, 0, 0, 1, 0, 0, 1, 0, 0, 0, 0, 0, 0,0,0,1,0],\n",
    "            [1, 0, 1, 0, 0, 0, 0, 0, 0, 0, 0, 0, 0, 0, 1, 0,0,0,0,1],\n",
    "            [0, 1, 1, 0, 0, 0, 1, 0, 0, 1, 0, 0, 0, 0, 0, 0,0,0,0,0],\n",
    "            [1, 0, 0, 0, 0, 0, 0, 1, 0, 0, 0, 0, 1, 1, 0, 0,0,0,0,0],\n",
    "            [0, 0, 0, 1, 0, 0, 0, 0, 0, 0, 1, 1, 0, 0, 1, 0,0,0,0,0]])\n",
    "print(sum(H[:]))\n",
    "print(sum(np.transpose(H)[:]))\n",
    "qcode=hgp(H,H,compute_distance=True)\n",
    "qcode.test()\n",
    "\n",
    "Sx_mat = qcode.hx\n",
    "Sz_mat = qcode.hz\n",
    "\n",
    "lx=qcode.lx #x logical operators\n",
    "lz=qcode.lz #z logical operators"
   ]
  },
  {
   "cell_type": "code",
   "execution_count": null,
   "id": "ecea81ef",
   "metadata": {},
   "outputs": [],
   "source": []
  }
 ],
 "metadata": {
  "kernelspec": {
   "display_name": "Python 3 (ipykernel)",
   "language": "python",
   "name": "python3"
  },
  "language_info": {
   "codemirror_mode": {
    "name": "ipython",
    "version": 3
   },
   "file_extension": ".py",
   "mimetype": "text/x-python",
   "name": "python",
   "nbconvert_exporter": "python",
   "pygments_lexer": "ipython3",
   "version": "3.9.12"
  }
 },
 "nbformat": 4,
 "nbformat_minor": 5
}
