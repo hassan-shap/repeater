{
 "cells": [
  {
   "cell_type": "code",
   "execution_count": 8,
   "id": "7d5d79cd-bcf9-4ffc-b0cd-e0662a4242bb",
   "metadata": {},
   "outputs": [],
   "source": [
    "import numpy as np"
   ]
  },
  {
   "cell_type": "code",
   "execution_count": 1,
   "id": "d0847e62-b50c-450d-ad66-f4ec812255c2",
   "metadata": {},
   "outputs": [],
   "source": [
    "def gf2_rank(rows):\n",
    "    \"\"\"\n",
    "    Find rank of a matrix over GF2.\n",
    "\n",
    "    The rows of the matrix are given as nonnegative integers, thought\n",
    "    of as bit-strings.\n",
    "\n",
    "    This function modifies the input list. Use gf2_rank(rows.copy())\n",
    "    instead of gf2_rank(rows) to avoid modifying rows.\n",
    "    \"\"\"\n",
    "    rank = 0\n",
    "    while rows:\n",
    "        pivot_row = rows.pop()\n",
    "        if pivot_row:\n",
    "            rank += 1\n",
    "            lsb = pivot_row & -pivot_row\n",
    "            for index, row in enumerate(rows):\n",
    "                if row & lsb:\n",
    "                    rows[index] = row ^ pivot_row\n",
    "    return rank"
   ]
  },
  {
   "cell_type": "code",
   "execution_count": 27,
   "id": "42e421a3-3284-44b8-b4a3-4cbb9321592d",
   "metadata": {},
   "outputs": [],
   "source": [
    "import random\n",
    "\n",
    "def random_matrix():\n",
    "    return [random.getrandbits(4) for row in range(4)]\n",
    "\n",
    "def random_matrices(count):\n",
    "    return [random_matrix() for _ in range(count)]"
   ]
  },
  {
   "cell_type": "code",
   "execution_count": 62,
   "id": "07d71511-1f19-4606-b604-fc1e944b7b40",
   "metadata": {},
   "outputs": [
    {
     "name": "stdout",
     "output_type": "stream",
     "text": [
      "0.0\n"
     ]
    }
   ],
   "source": [
    "from numpy.linalg import matrix_power\n",
    "from numpy.linalg import matrix_rank\n",
    "l = 24\n",
    "P_l = np.zeros((l,l),dtype=int)\n",
    "P_l[0,l-1] = 1\n",
    "P_l[1:l,0:l-1] = np.eye(l-1, dtype=int)\n",
    "A_part = (np.eye(l, dtype=int) + matrix_power(P_l,2) + matrix_power(P_l,8) + matrix_power(P_l,15))%2\n",
    "B_part = (np.eye(l, dtype=int) + matrix_power(P_l,2) + matrix_power(P_l,12) + matrix_power(P_l,17))%2\n",
    "H_X = np.concatenate((A_part, B_part), axis=1)\n",
    "# H_Z = np.concatenate((np.transpose(B_part), np.transpose(A_part)), axis=1)\n",
    "# H_XZ = np.zeros((2*l,4*l), dtype = int)\n",
    "# H_XZ[0:l, 0:2*l] = H_X\n",
    "# H_XZ[l:2*l, 2*l:4*l] = H_Z\n",
    "\n",
    "# from array of binaries to decimal\n",
    "n_row = np.size(H_X,axis=0)\n",
    "H_Xb = []\n",
    "for i_r in range(n_row):\n",
    "    H_Xb.append(np.sum(H_X[i_r,:]* 2**np.arange(47,-1,-1)))\n",
    "\n",
    "# from decimal to array of binaries\n",
    "n = 48 ## number of data qubits\n",
    "H_X_out = np.zeros((len(H_Xb),n),dtype=int)\n",
    "for i_1, number in enumerate(H_Xb):\n",
    "    num_str=np.base_repr(number,base=2)[::-1]\n",
    "    for i_2 in range(len(num_str)):\n",
    "        H_X_out[i_1,N-i_2-1]=int(num_str[i_2])\n",
    "\n",
    "        \n",
    "# print(H_Xb)\n",
    "# print(H_X)        \n",
    "print(np.linalg.norm(H_X_out-H_X))\n",
    "        \n",
    "H_Xb2 = []      \n",
    "for i_r in range(n_row):\n",
    "    H_Xb2.append(np.sum(H_X_out[i_r,:]* 2**np.arange(47,-1,-1)))\n",
    "# print(H_Xb2)\n",
    "\n",
    "\n",
    "# print(gf2_rank(H_Xb.copy()))"
   ]
  },
  {
   "cell_type": "code",
   "execution_count": 71,
   "id": "0a791767-c0af-42c5-9664-17cd5669ff51",
   "metadata": {},
   "outputs": [
    {
     "name": "stdout",
     "output_type": "stream",
     "text": [
      "[7, 10, 3, 12]\n",
      "[[0. 1. 1. 1.]\n",
      " [1. 0. 1. 0.]\n",
      " [0. 0. 1. 1.]\n",
      " [1. 1. 0. 0.]]\n",
      "[7.0, 10.0, 3.0, 12.0]\n"
     ]
    }
   ],
   "source": [
    "import timeit\n",
    "\n",
    "count = 4\n",
    "number = 10\n",
    "ms = random_matrix()\n",
    "print(ms)\n",
    "# for n in range(len(ms)):\n",
    "#     print(np.base_repr(np.array(ms[n]),base=2))\n",
    "\n",
    "# timer = timeit.Timer(\n",
    "#     setup=\"ms = random_matrices({})\".format(count),\n",
    "#     stmt=\"[gf2_rank(m.copy()) for m in ms]\",\n",
    "#     globals=globals())\n",
    "# print(min(timer.repeat(number=number)) / count / number)\n",
    "\n",
    "N = 4 ## number of data qubits\n",
    "ms_out = np.zeros((len(ms),N))\n",
    "for i_1, number in enumerate(ms):\n",
    "    num_str=np.base_repr(number,base=2)[::-1]\n",
    "    for i_2 in range(len(num_str)):\n",
    "        ms_out[i_1,N-i_2-1]=int(num_str[i_2])\n",
    "print(ms_out)\n",
    "        \n",
    "H_Xb2 = []      \n",
    "for i_r in range(count):\n",
    "    H_Xb2.append(np.sum(ms_out[i_r,:]* 2**np.arange(N-1,-1,-1)))\n",
    "print(H_Xb2)"
   ]
  },
  {
   "cell_type": "code",
   "execution_count": null,
   "id": "3ce10b1a-4000-4330-92aa-c8b508dc0a3b",
   "metadata": {},
   "outputs": [],
   "source": []
  }
 ],
 "metadata": {
  "kernelspec": {
   "display_name": "Python 3 (ipykernel)",
   "language": "python",
   "name": "python3"
  },
  "language_info": {
   "codemirror_mode": {
    "name": "ipython",
    "version": 3
   },
   "file_extension": ".py",
   "mimetype": "text/x-python",
   "name": "python",
   "nbconvert_exporter": "python",
   "pygments_lexer": "ipython3",
   "version": "3.9.12"
  }
 },
 "nbformat": 4,
 "nbformat_minor": 5
}
