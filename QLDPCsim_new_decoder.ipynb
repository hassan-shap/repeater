{
 "cells": [
  {
   "cell_type": "code",
   "execution_count": 1,
   "id": "a77c29b4-943c-41f2-8968-1ac8c1823c96",
   "metadata": {},
   "outputs": [],
   "source": [
    "import numpy as np\n",
    "import matplotlib.pyplot as plt\n",
    "import networkx as nx\n",
    "from networkx.algorithms import bipartite\n",
    "from networkx.drawing.nx_agraph import write_dot, graphviz_layout\n",
    "import time"
   ]
  },
  {
   "cell_type": "code",
   "execution_count": 27,
   "id": "87c3bf8a-564d-4338-b896-cf11ca746ef4",
   "metadata": {},
   "outputs": [],
   "source": [
    "# mod 2 inverse function\n",
    "# adapted from https://towardsdatascience.com/find-the-inverse-of-a-matrix-using-python-3aeb05b48308\n",
    "\n",
    "# write rows in reduced row echelon (rref) form\n",
    "def invert_matrix(M):\n",
    "    # store dimension\n",
    "    n = M.shape[0]\n",
    "    \n",
    "    # A must be square with non-zero determinant\n",
    "    # assert np.linalg.det(M) != 0\n",
    "\n",
    "    # identity matrix with same shape as A\n",
    "    I = np.identity(n=n, dtype = int)\n",
    "\n",
    "    # form the augmented matrix by concatenating A and I\n",
    "    M = np.concatenate((M, I), axis=1)\n",
    "\n",
    "    # move all zeros to buttom of matrix\n",
    "    M = np.concatenate((M[np.any(M != 0, axis=1)], M[np.all(M == 0, axis=1)]), axis=0)\n",
    "\n",
    "    # iterate over matrix rows\n",
    "    for i in range(0, n):\n",
    "\n",
    "        # initialize row-swap iterator\n",
    "        j = 1\n",
    "\n",
    "        # select pivot value\n",
    "        pivot = M[i][i]\n",
    "\n",
    "        # find next non-zero leading coefficient\n",
    "        while pivot == 0 and i + j < n:\n",
    "            # perform row swap operation\n",
    "            M[[i, i + j]] = M[[i + j, i]]\n",
    "\n",
    "            # incrememnt row-swap iterator\n",
    "            j += 1\n",
    "\n",
    "            # get new pivot\n",
    "            pivot = M[i][i]\n",
    "\n",
    "        # if pivot is zero, remaining rows are all zeros\n",
    "        if pivot == 0:\n",
    "            # return inverse matrix\n",
    "            return M[:, n:]\n",
    "\n",
    "        # extract row\n",
    "        # row = M[i]\n",
    "\n",
    "        # get 1 along the diagonal\n",
    "        # M[i] = row / pivot\n",
    "\n",
    "        # iterate over all rows except pivot to get augmented matrix into reduced row echelon form\n",
    "        for j in [k for k in range(0, n) if k != i]:\n",
    "            # subtract current row from remaining rows\n",
    "            M[j] = (M[j] - M[i] * M[j][i]) % 2\n",
    "\n",
    "    # return inverse matrix\n",
    "    return M[:, n:]"
   ]
  },
  {
   "cell_type": "code",
   "execution_count": 28,
   "id": "1145e278-cdac-40f4-a2d3-a12222469430",
   "metadata": {},
   "outputs": [],
   "source": [
    "# function for calculating logical operators:\n",
    "def logical_from_Hparity(H_XZ, n, k, r):\n",
    "\n",
    "    # step1: transform into the standard form:\n",
    "    # Gaussian elimination on certain blocks:\n",
    "    H_Ainv = invert_matrix(H_XZ[0:r,0:r])\n",
    "    H_Einv = invert_matrix(H_XZ[r:n-k, n+r:2*n-k])\n",
    "    H_XZ1 = np.zeros((n-k, 2*n), dtype = int)\n",
    "    H_XZ1[0:r, :] = H_Ainv @ H_XZ[0:r, :]\n",
    "    H_XZ1[r:n-k, :] = H_Einv @ H_XZ[r:n-k, :]\n",
    "    H_XZ1 = H_XZ1 % 2\n",
    "\n",
    "    # step2: solve the logical operator by different matrix section in the standard form:\n",
    "    # notice: k sets of X/Z logical operators in general\n",
    "    logicals_X = np.zeros((k, 2*n),dtype = int)\n",
    "    logicals_Z = np.zeros((k, 2*n),dtype = int)\n",
    "\n",
    "    # logical_X: (U1 U2 U3 | V1 V2 V3)\n",
    "    # U1 = 0 (k*r), U2 = E^T (k*(n-k-r)), U3 = I (k*k), \n",
    "    # V1 = E^T*C_1^T + C_2^T (k*r), V2 = 0 (k*(n-k-r)), V3 = 0 (k*k):\n",
    "    E = H_XZ1[r:n-k, 2*n-k:2*n]\n",
    "    C_1 = H_XZ1[0:r, n+r:2*n-k]\n",
    "    C_2 = H_XZ1[0:r, 2*n-k:2*n]\n",
    "    A_2 = H_XZ1[0:r, n-k:n]\n",
    "    logicals_X[0:k,0:r] = np.zeros((k,r),dtype=int)\n",
    "    logicals_X[0:k,r:n-k] = np.transpose(E)\n",
    "    logicals_X[0:k,n-k:n] = np.eye(k,dtype=int)\n",
    "    logicals_X[0:k,n:n+r] = np.transpose(E)@np.transpose(C_1)+np.transpose(C_2)\n",
    "    logicals_X[0:k,n+r:2*n-k] = np.zeros((k,n-k-r),dtype=int)\n",
    "    logicals_X[0:k,2*n-k:2*n] = np.zeros((k,k),dtype=int)\n",
    "\n",
    "    # logical_Z: (U1' U2' U3' | V1' V2' V3')\n",
    "    # U1' = 0 (k*r), U2' = 0 (k*(n-k-r)), U3' = 0 (k*k), \n",
    "    # V1' = A_2^T (k*r), V2' = 0 (k*(n-k-r)), V3' = I (k*k):\n",
    "    logicals_Z[0:k,0:r] = np.zeros((k,r),dtype=int)\n",
    "    logicals_Z[0:k,r:n-k] = np.zeros((k,n-k-r),dtype=int)\n",
    "    logicals_Z[0:k,n-k:n] = np.zeros((k,k),dtype=int)\n",
    "    logicals_Z[0:k,n:n+r] = np.transpose(A_2)\n",
    "    logicals_Z[0:k,n+r:2*n-k] = np.zeros((k,n-k-r),dtype=int)\n",
    "    logicals_Z[0:k,2*n-k:2*n] = np.eye(k,dtype=int)\n",
    "    logicals_X = logicals_X % 2\n",
    "    logicals_Z = logicals_Z % 2\n",
    "\n",
    "    return (logicals_X, logicals_Z)"
   ]
  },
  {
   "cell_type": "code",
   "execution_count": 4,
   "id": "023ed95d-0227-42b3-a6ed-4c70a8bf5b09",
   "metadata": {},
   "outputs": [],
   "source": [
    "def succ_prob_css_calc(B_orig, logicals_in, s_nodes, loss_inds):\n",
    "    ######################################################\n",
    "    ## inputs:\n",
    "    ## B_orig [type: networkx]: stabilizer graph, two kinds of nodes: qubit 1...N and stabilizer s1...s_{Ns}\n",
    "    ## logicals_in [type: list of numpy arrays]: logical operators in every row, columns act on qubits\n",
    "    ## s_nodes [type: list]: list of stabilizer nodes s1...s_{Ns}\n",
    "    ## loss_inds [type: numpy array]: index of erased qubits\n",
    "    #####################\n",
    "    ## output:\n",
    "    ## succ_fail [type: binary value]: 0 (failure), 1(success)\n",
    "    ######################################################\n",
    "    B = B_orig.copy()\n",
    "    logicals = list(np.copy(logicals_in))\n",
    "    s_nodes_set = set(np.copy(s_nodes))\n",
    "\n",
    "    Ns_remain = len(s_nodes_set) # number of stabilizer generators\n",
    "    q_remain = list(set(B.nodes())-s_nodes_set) # number of qubits (anciall+data)\n",
    "    node_list = list(s_nodes_set) + q_remain  # indices of all nodes in graph\n",
    "    adj_mat_new = nx.to_numpy_array(B, nodelist = node_list) # adjaceny matrix of stabilizer graph\n",
    "    Sx_mat = adj_mat_new[:Ns_remain,Ns_remain:] # stabilizer group matrix\n",
    "\n",
    "    for i_q, q in enumerate(loss_inds):\n",
    "        ## correct logical operators\n",
    "        # if Ns_remain> 0:\n",
    "        logicals = correct_logical(q,logicals, Sx_mat)\n",
    "        # # logicals = correct_logical(logicals, Sx_mat, q+Nq)\n",
    "        # if len(logicals) == 1:\n",
    "        #     if logicals[0][q]>0:\n",
    "        #         if Ns_remain> 0:\n",
    "        #             st_ind = np.argwhere(Sx_mat[:,q]>0)[:,0]\n",
    "        #             if len(st_ind)>0:\n",
    "        #                 logicals[0] = (logicals[0]+Sx_mat[st_ind[0],:]) % 2\n",
    "        #             else:\n",
    "        #                 logicals.pop()\n",
    "        #         else:\n",
    "        #             logicals.pop()\n",
    "        # else:\n",
    "        #     for i_log in np.arange(len(logicals)-1,-1,-1):\n",
    "        #         if logicals[i_log][q]>0:\n",
    "        #             if Ns_remain> 0:\n",
    "        #                 st_ind = np.argwhere(Sx_mat[:,q]>0)[:,0]\n",
    "        #                 if len(st_ind)>0:\n",
    "        #                     logicals[i_log] = (logicals[i_log]+Sx_mat[st_ind[0],:]) % 2\n",
    "        #                 else:\n",
    "        #                     logicals.pop(i_log)            \n",
    "        #             else:\n",
    "        #                 logicals.pop(i_log)            \n",
    "\n",
    "        ## update stabilizer group\n",
    "        ## first: update graph\n",
    "        if q in B:\n",
    "            B, s_nodes_set = modify_graph(q,B,s_nodes_set)\n",
    "        ## second: update stabilizer group matrix\n",
    "            Ns_remain = len(s_nodes_set)\n",
    "            if Ns_remain> 0:\n",
    "                q_remain = list(set(B.nodes())-s_nodes_set)\n",
    "                node_list = list(s_nodes_set) + q_remain\n",
    "                adj_mat_new = nx.to_numpy_matrix(B, nodelist = node_list)\n",
    "                Sx_red = adj_mat_new[:Ns_remain,Ns_remain:]\n",
    "                Sx_mat = np.zeros((Ns_remain,N))\n",
    "                Sx_mat[:,q_remain] = Sx_red\n",
    "            else:\n",
    "                Sx_mat = []\n",
    "                # break\n",
    "\n",
    "    # succ_fail = 0 # default value: failure\n",
    "    # if Ns_remain > 0:\n",
    "    #     return int(len(logicals)/2)\n",
    "    # elif i_q == len(loss_inds)-1:\n",
    "    #     return int(len(logicals)/2)\n",
    "    num_qs = 0\n",
    "    if len(logicals)>=1:\n",
    "        for i_l in range(len(logicals)):\n",
    "            if np.sum(logicals[i_l][loss_inds])==0:\n",
    "                num_qs += 1 \n",
    "            # print(logicals)\n",
    "    return num_qs\n",
    "    \n",
    "def modify_graph(q,B,s_nodes_set):\n",
    "    sq = [n for n in B.neighbors(q)]\n",
    "    if len(sq)==1:\n",
    "        B.remove_nodes_from(sq)\n",
    "        s_nodes_set -= set(sq)\n",
    "    elif len(sq)>1:\n",
    "        double_edgs = []\n",
    "        for i in range(len(sq)-1):\n",
    "            n0 = set(B.neighbors(sq[i]))\n",
    "            n1 = set(B.neighbors(sq[i+1]))\n",
    "            rep_qs = n0.intersection(n1)\n",
    "            q0 = list(set(n0)-rep_qs)\n",
    "            q1 = list(set(n1)-rep_qs)\n",
    "            double_edgs += [(sq[i], e) for e in q0]\n",
    "            double_edgs += [(sq[i], e) for e in q1]\n",
    "        G = nx.Graph()\n",
    "        G.add_nodes_from(sq[:-1])\n",
    "        G.add_edges_from(double_edgs)\n",
    "        sq_remain = list(s_nodes_set-set(sq))\n",
    "        for s in sq_remain:\n",
    "            G.add_edges_from([(s, e) for e in B.neighbors(s)])\n",
    "        B = G\n",
    "        s_nodes_set -= {sq[-1]}\n",
    "    return B, s_nodes_set\n",
    "\n",
    "\n",
    "def correct_logical(q,logicals_in, Sx_mat):\n",
    "    logicals = list(np.copy(logicals_in))\n",
    "    Ns_remain = np.size(Sx_mat,0)\n",
    "    if len(logicals) == 1:\n",
    "        if logicals[0][q]>0:\n",
    "            if Ns_remain> 0:\n",
    "                st_ind = np.argwhere(Sx_mat[:,q]>0)[:,0]\n",
    "                if len(st_ind)>0:\n",
    "                    logicals[0] = (logicals[0]+Sx_mat[st_ind[0],:]) % 2\n",
    "                else:\n",
    "                    logicals.pop()\n",
    "            else:\n",
    "                logicals.pop()\n",
    "    else:\n",
    "        for i_log in np.arange(len(logicals)-1,-1,-1):\n",
    "            if logicals[i_log][q]>0:\n",
    "                if Ns_remain> 0:\n",
    "                    st_ind = np.argwhere(Sx_mat[:,q]>0)[:,0]\n",
    "                    if len(st_ind)>0:\n",
    "                        logicals[i_log] = (logicals[i_log]+Sx_mat[st_ind[0],:]) % 2\n",
    "                    else:\n",
    "                        logicals.pop(i_log)            \n",
    "                else:\n",
    "                    logicals.pop(i_log) \n",
    "    return logicals"
   ]
  },
  {
   "cell_type": "markdown",
   "id": "19b37aba-9aae-4ab9-a77a-bd45c165ee94",
   "metadata": {},
   "source": [
    "## QLPDC parity check matrix generation"
   ]
  },
  {
   "cell_type": "code",
   "execution_count": 3,
   "id": "2a378f86-d061-420a-ac32-93ef7aefc968",
   "metadata": {},
   "outputs": [],
   "source": [
    "from numpy.linalg import matrix_power\n",
    "from numpy.linalg import matrix_rank\n",
    "\n",
    "## adapted from: stackoverflow...\n",
    "def gf2_rank(rows):\n",
    "    \"\"\"\n",
    "    Find rank of a matrix over GF2.\n",
    "    The rows of the matrix are given as nonnegative integers, thought\n",
    "    of as bit-strings.\n",
    "    This function modifies the input list. Use gf2_rank(rows.copy())\n",
    "    instead of gf2_rank(rows) to avoid modifying rows.\n",
    "    \"\"\"\n",
    "    rows_new = []\n",
    "    rank = 0\n",
    "    while rows:\n",
    "        #print(rows)\n",
    "        pivot_row = rows.pop()\n",
    "        #print(pivot_row)\n",
    "        if pivot_row:\n",
    "            rows_new.append(pivot_row)\n",
    "            rank += 1\n",
    "            lsb = pivot_row & -pivot_row\n",
    "            for index, row in enumerate(rows):\n",
    "                if row & lsb:\n",
    "                    rows[index] = row ^ pivot_row\n",
    "    return (rows_new, rank)\n",
    "\n",
    "## transform back to the binary matrix:\n",
    "def Hb_to_H(n,r,H_list):\n",
    "    H_tot = []\n",
    "    for i in range(r):\n",
    "        H_row = []\n",
    "        H_num = H_list[i]\n",
    "        for k in range(n-1,-1,-1):\n",
    "            H_row.append(H_num // (2**k))\n",
    "            H_num = H_num % (2**k)\n",
    "        H_tot.append(H_row)\n",
    "    H_new = np.array(H_tot)\n",
    "    return H_new\n",
    "\n",
    "def GB_gen(l,a_l,b_l):\n",
    "    P_l = np.zeros((l,l),dtype=int)\n",
    "    P_l[0,l-1] = 1\n",
    "    P_l[1:l,0:l-1] = np.eye(l-1, dtype=int)\n",
    "    A_part = np.eye(l, dtype=int)\n",
    "    B_part = np.eye(l, dtype=int)\n",
    "    for k_l in a_l:\n",
    "        A_part += matrix_power(P_l,k_l)\n",
    "    for k_l in b_l:\n",
    "        B_part += matrix_power(P_l,k_l)\n",
    "    A_part = A_part % 2\n",
    "    B_part = B_part % 2\n",
    "    H_X = np.concatenate((A_part, B_part), axis=1)\n",
    "    H_Z = np.concatenate((np.transpose(B_part), np.transpose(A_part)), axis=1)\n",
    "    H_XZ = np.zeros((2*l,4*l), dtype = int)\n",
    "    H_XZ[0:l, 0:2*l] = H_X\n",
    "    H_XZ[l:2*l, 2*l:4*l] = H_Z\n",
    "    return H_XZ"
   ]
  },
  {
   "cell_type": "markdown",
   "id": "8a4bd578-1996-4478-b894-b8843759ea5a",
   "metadata": {},
   "source": [
    "## generalized bicycle (GB) code"
   ]
  },
  {
   "cell_type": "markdown",
   "id": "a947505a-a455-4463-b9dd-e627451f1406",
   "metadata": {
    "tags": []
   },
   "source": [
    "### [[48, 6, 8]] code"
   ]
  },
  {
   "cell_type": "code",
   "execution_count": 4,
   "id": "01167220-2691-4c50-8b9d-f5ad7de7738c",
   "metadata": {},
   "outputs": [],
   "source": [
    "l=24\n",
    "n = 48\n",
    "k = 6\n",
    "r = 21\n",
    "H_XZ = GB_gen(l,[2,8,15],[2,12,17])"
   ]
  },
  {
   "cell_type": "markdown",
   "id": "b4255116-4b38-43b3-91f0-1d4d95d517b4",
   "metadata": {},
   "source": [
    "### [[46, 2, 9]] code"
   ]
  },
  {
   "cell_type": "code",
   "execution_count": 38,
   "id": "755789d4-d7fe-45e6-83be-1bd99bb52b1d",
   "metadata": {},
   "outputs": [],
   "source": [
    "l=23\n",
    "n = 46\n",
    "k = 2\n",
    "r = 22\n",
    "H_XZ = GB_gen(l,[5,8,12],[1,5,7])"
   ]
  },
  {
   "cell_type": "markdown",
   "id": "6c11718e-2def-4eb5-9d5a-0fe045b206f3",
   "metadata": {},
   "source": [
    "### [126, 28, 8] code"
   ]
  },
  {
   "cell_type": "code",
   "execution_count": 41,
   "id": "00347a76-3ad4-43ca-b7c1-72d49e4a12ba",
   "metadata": {},
   "outputs": [],
   "source": [
    "l=63\n",
    "n = 126\n",
    "k = 28\n",
    "r = 49\n",
    "H_XZ = GB_gen(l,[1,14,16,22],[3,13,20,42])"
   ]
  },
  {
   "cell_type": "markdown",
   "id": "e45480b2-05fd-4e0d-97bb-c21e01b463ab",
   "metadata": {},
   "source": [
    "### [[180, 10, d]] code"
   ]
  },
  {
   "cell_type": "code",
   "execution_count": 22,
   "id": "dfed2b69-253b-4d61-a647-a392e6997436",
   "metadata": {},
   "outputs": [],
   "source": [
    "l=90\n",
    "n = 180\n",
    "k = 10\n",
    "r = 85\n",
    "H_XZ = GB_gen(l,[28,80,89],[2,21,25])"
   ]
  },
  {
   "cell_type": "markdown",
   "id": "752f5d09-8751-4c43-92bf-45aa8f6c8bd9",
   "metadata": {},
   "source": [
    "### [[254, 28, d]] code"
   ]
  },
  {
   "cell_type": "code",
   "execution_count": 24,
   "id": "eae4a8d4-cfb0-4806-80b9-cffdee2bf5af",
   "metadata": {},
   "outputs": [],
   "source": [
    "l=127\n",
    "n = 254\n",
    "k = 28\n",
    "r = 113\n",
    "H_XZ = GB_gen(l,[15,20,28,66],[58,59,100,121])"
   ]
  },
  {
   "cell_type": "code",
   "execution_count": 5,
   "id": "ff0452fc-7b9f-43aa-9756-ecc8a873aaf6",
   "metadata": {},
   "outputs": [
    {
     "ename": "ModuleNotFoundError",
     "evalue": "No module named 'ldpc'",
     "output_type": "error",
     "traceback": [
      "\u001b[0;31m---------------------------------------------------------------------------\u001b[0m",
      "\u001b[0;31mModuleNotFoundError\u001b[0m                       Traceback (most recent call last)",
      "Input \u001b[0;32mIn [5]\u001b[0m, in \u001b[0;36m<cell line: 1>\u001b[0;34m()\u001b[0m\n\u001b[0;32m----> 1\u001b[0m \u001b[38;5;28;01mfrom\u001b[39;00m \u001b[38;5;21;01mldpc\u001b[39;00m\u001b[38;5;21;01m.\u001b[39;00m\u001b[38;5;21;01mcodes\u001b[39;00m \u001b[38;5;28;01mimport\u001b[39;00m hamming_code\n\u001b[1;32m      2\u001b[0m H\u001b[38;5;241m=\u001b[39mhamming_code(\u001b[38;5;241m3\u001b[39m)\n\u001b[1;32m      3\u001b[0m \u001b[38;5;28mprint\u001b[39m(H)\n",
      "\u001b[0;31mModuleNotFoundError\u001b[0m: No module named 'ldpc'"
     ]
    }
   ],
   "source": [
    "from ldpc.codes import hamming_code\n",
    "H=hamming_code(3)\n",
    "print(H)\n",
    "from bposd.css import css_code\n",
    "\n",
    "Sx = H_XZ[:, 0:n]\n",
    "Sz = H_XZ[:, n:2*n]\n",
    "\n",
    "qcode=css_code(hx=Sx,hz=Sz)\n",
    "\n",
    "# print(qcode.hx)\n",
    "# print(qcode.hz)\n",
    "\n",
    "lx=qcode.lx #x logical operators\n",
    "lz=qcode.lz #z logical operators\n",
    "\n",
    "# print(lx)\n",
    "# print(lz)\n",
    "print( ((Sz@lx.T) % 2))\n",
    "print( ((Sx@lz.T) % 2))"
   ]
  },
  {
   "cell_type": "code",
   "execution_count": 39,
   "id": "d9763ad8-1666-423a-ad3f-f51d0df92979",
   "metadata": {},
   "outputs": [
    {
     "name": "stdout",
     "output_type": "stream",
     "text": [
      "(23, 46) (23, 46)\n",
      "22\n"
     ]
    }
   ],
   "source": [
    "##########\n",
    "H_X = H_XZ[:, 0:n]\n",
    "H_X = H_X[~np.all(H_X == 0, axis=1)]\n",
    "H_Z = H_XZ[:, n:2*n]\n",
    "H_Z = H_Z[~np.all(H_Z == 0, axis=1)]\n",
    "print(H_X.shape, H_Z.shape)\n",
    "n_row = np.size(H_X,axis=0)\n",
    "H_Xb = []\n",
    "H_Zb = []\n",
    "for i_r in range(n_row):\n",
    "    H_Xb.append(np.sum(H_X[i_r,:]* 2**np.arange(n-1,-1,-1)))\n",
    "    H_Zb.append(np.sum(H_Z[i_r,:]* 2**np.arange(n-1,-1,-1)))\n",
    "\n",
    "H_Xbc = H_Xb.copy()\n",
    "H_Zbc = H_Zb.copy()\n",
    "H_Xb1, RoX = gf2_rank(H_Xbc)\n",
    "H_Zb1, RoZ = gf2_rank(H_Zbc)\n",
    "\n",
    "print(len(H_Xb1))\n",
    "\n",
    "H_X_new = Hb_to_H(n,r,H_Xb1)\n",
    "H_Z_new = Hb_to_H(n,r,H_Zb1)\n",
    "H_XZ = np.zeros((2*r,4*l), dtype = int)\n",
    "H_XZ[0:r, 0:2*l] = H_X_new\n",
    "H_XZ[r:2*r, 2*l:4*l] = H_Z_new"
   ]
  },
  {
   "cell_type": "code",
   "execution_count": 42,
   "id": "a9295c82-698d-416b-a472-4c3262a4b64f",
   "metadata": {},
   "outputs": [
    {
     "name": "stdout",
     "output_type": "stream",
     "text": [
      "0.0\n",
      "18.49324200890693\n"
     ]
    }
   ],
   "source": [
    "## with logical operator\n",
    "Sx_mat = H_XZ[:, 0:n]\n",
    "Sx_mat = Sx_mat[~np.all(Sx_mat == 0, axis=1)]\n",
    "Sz_mat = H_XZ[:, n:2*n]\n",
    "Sz_mat = Sz_mat[~np.all(Sz_mat == 0, axis=1)]\n",
    "\n",
    "N = np.size(Sx_mat,1) # number of data qubits \n",
    "Ns = np.size(Sx_mat,0) # number of stabilizers \n",
    "logicals_X = logical_from_Hparity(H_XZ, N, k, Ns)[0]\n",
    "logicals_Z = logical_from_Hparity(H_XZ, N, k, Ns)[1]\n",
    "logical_tX = logicals_X[:,0:N]\n",
    "logical_tZ = logicals_Z[:,N:]\n",
    "\n",
    "print( np.linalg.norm((Sx_mat@logical_tZ.T) % 2))\n",
    "print( np.linalg.norm((Sz_mat@logical_tX.T) % 2))"
   ]
  },
  {
   "cell_type": "code",
   "execution_count": 55,
   "id": "cabc743d-a4ba-47c3-953f-7fa372cf5510",
   "metadata": {},
   "outputs": [
    {
     "name": "stdout",
     "output_type": "stream",
     "text": [
      "Elapsed time 367 sec.\n"
     ]
    }
   ],
   "source": [
    "## with logical operator\n",
    "Sx_mat = H_XZ[:, 0:n]\n",
    "Sx_mat = Sx_mat[~np.all(Sx_mat == 0, axis=1)]\n",
    "Sz_mat = H_XZ[:, n:2*n]\n",
    "Sz_mat = Sz_mat[~np.all(Sz_mat == 0, axis=1)]\n",
    "\n",
    "N = np.size(Sx_mat,1) # number of data qubits \n",
    "Ns = np.size(Sx_mat,0) # number of stabilizers \n",
    "logicals_X = logical_from_Hparity(H_XZ, N, k, Ns)[0]\n",
    "logicals_Z = logical_from_Hparity(H_XZ, N, k, Ns)[1]\n",
    "logical_tX = logicals_X[:,0:N]\n",
    "logical_tZ = logicals_Z[:,N:]\n",
    "\n",
    "## construct stabilizer graph\n",
    "B_orig_X = nx.Graph()\n",
    "B_orig_X.add_nodes_from(np.arange(N))\n",
    "B_orig_Z = nx.Graph()\n",
    "B_orig_Z.add_nodes_from(np.arange(N))\n",
    "s_nodes = [\"s%d\" % s for s in np.arange(Ns)]\n",
    "B_orig_X.add_nodes_from(s_nodes)\n",
    "B_orig_Z.add_nodes_from(s_nodes)\n",
    "\n",
    "for row in range(Ns):\n",
    "    qs_X = np.argwhere(Sx_mat[row,:]>0)[:,0]\n",
    "    B_orig_X.add_edges_from([(\"s%d\" % row, q) for q in qs_X])\n",
    "    qs_Z = np.argwhere(Sz_mat[row,:]>0)[:,0]\n",
    "    B_orig_Z.add_edges_from([(\"s%d\" % row, q) for q in qs_Z])\n",
    "\n",
    "# nx.draw(B_orig_X,  with_labels=True)\n",
    "# plt.show()\n",
    "\n",
    "p_list = np.linspace(0.01,0.99,20)\n",
    "Nrep = 100 # number of MC iterations\n",
    "succ_prob_X = np.zeros(len(p_list))\n",
    "succ_prob_Z = np.zeros(len(p_list))\n",
    "tic = time.time()\n",
    "for i_p, p in enumerate(p_list):\n",
    "    for i_rep in range(Nrep):\n",
    "        loss_inds = np.random.permutation(np.argwhere(np.random.rand(N)<p)[:,0])\n",
    "        succ_prob_X[i_p] += succ_prob_css_calc(B_orig_X, logical_tX, s_nodes, loss_inds)\n",
    "        succ_prob_Z[i_p] += succ_prob_css_calc(B_orig_Z, logical_tZ, s_nodes, loss_inds)\n",
    "toc = time.time()\n",
    "print(\"Elapsed time %d sec.\" % (toc-tic))\n",
    "succ_prob_X /= (Nrep*k)\n",
    "succ_prob_Z /= (Nrep*k)"
   ]
  },
  {
   "cell_type": "code",
   "execution_count": 41,
   "id": "07b1829d-67a5-45d4-95d9-030d26dbe9a0",
   "metadata": {},
   "outputs": [
    {
     "data": {
      "image/png": "[encoded data removed]",
      "text/plain": [
       "<Figure size 432x288 with 1 Axes>"
      ]
     },
     "metadata": {
      "needs_background": "light"
     },
     "output_type": "display_data"
    }
   ],
   "source": [
    "plt.plot(1-p_list,succ_prob_X,\"o-\",label=\"X\")\n",
    "plt.plot(1-p_list,succ_prob_Z,\"x\",label=\"Z\")\n",
    "f = lambda x: x**5 + 5* x**4* (1-x) + 5*2*x**3 * (1-x)**2\n",
    "plt.plot(1-p_list,f(1-p_list),\"-\")\n",
    "plt.plot(1-p_list,1-p_list,\"k--\")\n",
    "x0 = 1-1/2\n",
    "plt.plot([x0,x0],[0,1],\"k--\")\n",
    "plt.title(\"48-q code\")\n",
    "plt.legend()\n",
    "plt.show()"
   ]
  },
  {
   "cell_type": "code",
   "execution_count": 48,
   "id": "80974ec1-df85-4898-acf9-281ea805eb9b",
   "metadata": {},
   "outputs": [
    {
     "data": {
      "image/png": "[encoded data removed]",
      "text/plain": [
       "<Figure size 432x288 with 1 Axes>"
      ]
     },
     "metadata": {
      "needs_background": "light"
     },
     "output_type": "display_data"
    }
   ],
   "source": [
    "plt.plot(1-p_list,succ_prob_X,\"o-\",label=\"X\")\n",
    "plt.plot(1-p_list,succ_prob_Z,\"x\",label=\"Z\")\n",
    "f = lambda x: x**5 + 5* x**4* (1-x) + 5*2*x**3 * (1-x)**2\n",
    "plt.plot(1-p_list,f(1-p_list),\"-\")\n",
    "plt.plot(1-p_list,1-p_list,\"k--\")\n",
    "x0 = 1-1/2\n",
    "plt.plot([x0,x0],[0,1],\"k--\")\n",
    "plt.title(\"46-q code\")\n",
    "plt.legend()\n",
    "plt.show()"
   ]
  },
  {
   "cell_type": "code",
   "execution_count": 58,
   "id": "3d889ff6-e792-4971-9f50-0f844f44f1e1",
   "metadata": {},
   "outputs": [
    {
     "data": {
      "image/png": "[encoded data removed]",
      "text/plain": [
       "<Figure size 432x288 with 1 Axes>"
      ]
     },
     "metadata": {
      "needs_background": "light"
     },
     "output_type": "display_data"
    }
   ],
   "source": [
    "# plt.plot(1-p_list,succ_prob_X,\"o-\",label=\"X\")\n",
    "plt.plot(1-p_list,succ_prob_Z*succ_prob_X,\"x\",label=\"Z\")\n",
    "# f = lambda x: x**5 + 5* x**4* (1-x) + 5*2*x**3 * (1-x)**2\n",
    "# plt.plot(1-p_list,f(1-p_list),\"-\")\n",
    "plt.plot(1-p_list,1-p_list,\"k--\")\n",
    "x0 = 1-1/2\n",
    "plt.plot([x0,x0],[0,1],\"k--\")\n",
    "plt.title(\"126-q code\")\n",
    "plt.legend()\n",
    "plt.show()"
   ]
  },
  {
   "cell_type": "markdown",
   "id": "95d53aaf-ade0-4203-9038-d2c4d2b18648",
   "metadata": {},
   "source": [
    "## foliated code"
   ]
  },
  {
   "cell_type": "code",
   "execution_count": 25,
   "id": "6a546eb9-a27d-4d01-b62a-9997a5095e9f",
   "metadata": {},
   "outputs": [
    {
     "name": "stdout",
     "output_type": "stream",
     "text": [
      "finished L = 2 in 66.3 secs\n"
     ]
    }
   ],
   "source": [
    "# have both X and Z calculation\n",
    "# in layer stabilizer group\n",
    "Sx_mat = H_XZ[:, 0:n]\n",
    "Sx_mat = Sx_mat[~np.all(Sx_mat == 0, axis=1)]\n",
    "Sz_mat = H_XZ[:, n:2*n]\n",
    "Sz_mat = Sz_mat[~np.all(Sz_mat == 0, axis=1)]\n",
    "Nq_l = np.size(Sx_mat,1) # number of data qubits per layer\n",
    "Ns_l = np.size(Sx_mat,0) # number of stabilizers per layer\n",
    "logicals_X = logical_from_Hparity(H_XZ, Nq_l, k, Ns_l)[0]\n",
    "logicals_Z = logical_from_Hparity(H_XZ, Nq_l, k, Ns_l)[1]\n",
    "logical_tX = logicals_X[:,0:Nq_l]\n",
    "logical_tZ = logicals_Z[:,Nq_l:2*Nq_l]\n",
    "\n",
    "Nl_list = np.arange(2,3) # number of layers\n",
    "p_list = np.linspace(0.01,0.4,20) # list of loss probability\n",
    "Nrep = 30 # number of MC iterations\n",
    "succ_prob_X = np.zeros((len(p_list),len(Nl_list)))\n",
    "succ_prob_Z = np.zeros((len(p_list),len(Nl_list)))\n",
    "succ_prob_tot = np.zeros((len(p_list),len(Nl_list)))\n",
    "\n",
    "for i_L, Nl in enumerate(Nl_list):\n",
    "    tic = time.time()\n",
    "    # Nl = 3 # number of layers in foliated code\n",
    "    N = Nl*(Nq_l+Ns_l) # number of data qubits\n",
    "    Ns = Nl*Ns_l # number of stabilizers\n",
    "    B_orig_X = nx.Graph()\n",
    "    B_orig_X.add_nodes_from(np.arange(N))\n",
    "    B_orig_Z = nx.Graph()\n",
    "    B_orig_Z.add_nodes_from(np.arange(N))\n",
    "    s_nodes = [\"s%d\" % s for s in np.arange(Ns)]\n",
    "    B_orig_X.add_nodes_from(s_nodes)\n",
    "    B_orig_Z.add_nodes_from(s_nodes)\n",
    "    for row in range(Ns_l):\n",
    "        qs_X = np.argwhere(Sx_mat[row,:]>0)[:,0]\n",
    "        for i_l in range(Nl):\n",
    "            B_orig_X.add_edges_from([(\"s%d\" % ((i_l*Ns_l)+row), i_l*(Nq_l+Ns_l)+q) for q in qs_X])\n",
    "        qs_Z = np.argwhere(Sz_mat[row,:]>0)[:,0]\n",
    "        for i_l in range(Nl):\n",
    "            B_orig_Z.add_edges_from([(\"s%d\" % ((i_l*Ns_l)+row), i_l*(Nq_l+Ns_l)+q) for q in qs_Z])\n",
    "\n",
    "    for i_l in range(Nl):\n",
    "        B_orig_X.add_edges_from([(\"s%d\" % ((i_l*Ns_l)+sq), i_l*(Nq_l+Ns_l)+Nq_l+sq) for sq in range(Ns_l)])\n",
    "        B_orig_X.add_edges_from([(\"s%d\" % ((i_l*Ns_l)+sq), ((i_l-1)%Nl)*(Nq_l+Ns_l)+Nq_l+sq) for sq in range(Ns_l)])\n",
    "        B_orig_Z.add_edges_from([(\"s%d\" % ((i_l*Ns_l)+sq), i_l*(Nq_l+Ns_l)+Nq_l+sq) for sq in range(Ns_l)])\n",
    "        B_orig_Z.add_edges_from([(\"s%d\" % ((i_l*Ns_l)+sq), ((i_l-1)%Nl)*(Nq_l+Ns_l)+Nq_l+sq) for sq in range(Ns_l)])\n",
    "\n",
    "    logical_in_X = np.zeros((np.size(logical_tX,0),N))\n",
    "    logical_in_Z = np.zeros((np.size(logical_tX,0),N))\n",
    "    for i_l in range(Nl):\n",
    "        logical_in_X[:,i_l*(Nq_l+Ns_l):i_l*(Nq_l+Ns_l)+Nq_l] = logical_tX\n",
    "        logical_in_Z[:,i_l*(Nq_l+Ns_l):i_l*(Nq_l+Ns_l)+Nq_l] = logical_tZ\n",
    "\n",
    "    for i_p, p in enumerate(p_list):\n",
    "        for i_rep in range(Nrep):\n",
    "            loss_inds = np.random.permutation(np.argwhere(np.random.rand(N)<p)[:,0])\n",
    "            succ_prob_X[i_p,i_L] += succ_prob_css_calc(B_orig_X, logical_in_X, s_nodes, loss_inds)\n",
    "            succ_prob_Z[i_p,i_L] += succ_prob_css_calc(B_orig_Z, logical_in_Z, s_nodes, loss_inds)\n",
    "\n",
    "    toc = time.time()\n",
    "    print(\"finished L = %d in %.1f secs\" % (Nl,toc-tic))\n",
    "\n",
    "succ_prob_X /= (Nrep * k)\n",
    "succ_prob_Z /= (Nrep * k)"
   ]
  },
  {
   "cell_type": "code",
   "execution_count": 26,
   "id": "ccb2f97b-ca8b-4eca-bd21-f09a8075ee81",
   "metadata": {},
   "outputs": [
    {
     "data": {
      "image/png": "[encoded data removed]",
      "text/plain": [
       "<Figure size 432x288 with 1 Axes>"
      ]
     },
     "metadata": {
      "needs_background": "light"
     },
     "output_type": "display_data"
    }
   ],
   "source": [
    "#f = lambda x: x**7 + 7*x**6*(1-x) + 7*3*x**5 * (1-x)**2 #+ 7*5 *x**4 * (1-x)**3\n",
    "#f = lambda x: x**5 + 5*x**4*(1-x) + 10*x**3*(1-x)**2\n",
    "#plt.plot(1-p_list,f(1-p_list),\"-\",label=\"1-layer Analytical\")\n",
    "succ_prob_tot = np.multiply(succ_prob_X, succ_prob_Z)\n",
    "for i_L, L in enumerate(Nl_list):\n",
    "    #plt.plot(1-p_list,succ_prob_7q[:,i_L],\".-\", color =\"C%d\" % (i_L+1), label=\"# layer=%d\" % L)\n",
    "    plt.plot(1-p_list,succ_prob_tot[:,i_L],\".-\", color =\"C%d\" % (i_L+1), label=\"# layer=%d\" % L)\n",
    "plt.plot(1-p_list,1-p_list,\"k--\")\n",
    "plt.xlabel(\"trans rate\")\n",
    "plt.ylabel(\"eff trans rate\")\n",
    "plt.legend()\n",
    "plt.title('[[48,6,8]] generalized bicycle code')\n",
    "plt.show()"
   ]
  },
  {
   "cell_type": "code",
   "execution_count": 47,
   "id": "08a27fbc-deff-4ab0-bfc2-6fc02c277c7c",
   "metadata": {},
   "outputs": [],
   "source": [
    "# write data in a file.\n",
    "np.savetxt('data_Daoheng/128q28l2L30s_1.txt', succ_prob_tot, delimiter=',')"
   ]
  },
  {
   "cell_type": "markdown",
   "id": "fb228b08-5443-49cb-9d19-485a5f6ddd8d",
   "metadata": {},
   "source": [
    "## Example 2: Toric code"
   ]
  },
  {
   "cell_type": "code",
   "execution_count": 49,
   "id": "83a1f3c1-6b03-42c4-a45a-bf069f05dcbf",
   "metadata": {},
   "outputs": [
    {
     "name": "stdout",
     "output_type": "stream",
     "text": [
      "finished L = 4 in 7.6 secs\n",
      "finished L = 6 in 28.2 secs\n",
      "finished L = 8 in 78.2 secs\n",
      "finished L = 10 in 183.3 secs\n"
     ]
    }
   ],
   "source": [
    "L_list = np.arange(4,12,2) # linear dim of toric code\n",
    "p_list = np.linspace(0.01,0.99,20)\n",
    "Nrep = 100\n",
    "succ_prob_tc = np.zeros((len(p_list),len(L_list)))\n",
    "\n",
    "for i_L, L in enumerate(L_list):\n",
    "    tic = time.time()\n",
    "    \n",
    "    r1 = L\n",
    "    r2 = L\n",
    "    N = 2*r1*r2 # number of data qubits\n",
    "    Ns = r1*r2 # number of stabilizers\n",
    "\n",
    "    Sx = np.zeros((r1*r2,2*r1*r2),dtype=int)\n",
    "    pos = dict()\n",
    "    for i_y in range(r2):\n",
    "        for i_x in range(r1):\n",
    "            Sx[i_y*r1 + i_x, 2*(i_y*r1 + i_x)] = 1\n",
    "            Sx[i_y*r1 + i_x, 2*(i_y*r1 + i_x)+1] = 1\n",
    "            Sx[i_y*r1 + i_x, 2*(i_y*r1+(i_x-1)%r1 )] = 1\n",
    "            Sx[i_y*r1 + i_x, 2*(((i_y-1)%r2)*r1+i_x)+1] = 1\n",
    "            pos[\"s%d\" % (i_y*r1 + i_x)] = (i_x-0.1,i_y-0.1)\n",
    "            pos[2*(i_y*r1 + i_x)] = (i_x+0.5,i_y)\n",
    "            pos[2*(i_y*r1 + i_x)+1] = (i_x,i_y+0.5)\n",
    "            pos[2*(i_y*r1+(i_x-1)%r1 )] = (i_x-0.5,i_y)\n",
    "            pos[2*(((i_y-1)%r2)*r1+i_x)+1] = (i_x,i_y-0.5)\n",
    "\n",
    "    B_orig = nx.Graph()\n",
    "    B_orig.add_nodes_from(np.arange(N))#, bipartite=0)\n",
    "    s_nodes = [\"s%d\" % s for s in np.arange(Ns)]\n",
    "    B_orig.add_nodes_from(s_nodes)#, bipartite=1)\n",
    "    for row in range(np.size(Sx,0)):\n",
    "        qs = np.argwhere(Sx[row,:]>0)[:,0]\n",
    "        B_orig.add_edges_from([(\"s%d\" % row, q) for q in qs])\n",
    "\n",
    "    logicals = np.zeros((2,2*r1*r2))\n",
    "    logicals[0,1:2*r1:2] = np.ones(r1) \n",
    "    logicals[1,0:2*r1*r2:2*r1] = np.ones(r2) \n",
    "\n",
    "    for i_p, p in enumerate(p_list):\n",
    "        for i_rep in range(Nrep):\n",
    "            loss_inds = np.random.permutation(np.argwhere(np.random.rand(N)<p)[:,0])\n",
    "            succ_prob_tc[i_p,i_L] += succ_prob_css_calc(B_orig, logicals, s_nodes, loss_inds)\n",
    "           \n",
    "    toc = time.time()\n",
    "    print(\"finished L = %d in %.1f secs\" % (L,toc-tic))\n",
    "\n",
    "succ_prob_tc /= (Nrep*2)\n"
   ]
  },
  {
   "cell_type": "code",
   "execution_count": 32,
   "id": "300d6f47-8382-4771-adec-1d33dbb68afb",
   "metadata": {},
   "outputs": [
    {
     "data": {
      "image/png": "[encoded data removed]",
      "text/plain": [
       "<Figure size 432x288 with 1 Axes>"
      ]
     },
     "metadata": {
      "needs_background": "light"
     },
     "output_type": "display_data"
    }
   ],
   "source": [
    "for i_L, L in enumerate(L_list):\n",
    "    plt.plot(1-p_list,succ_prob_tc[:,i_L],\".-\", color =\"C%d\" % (i_L+1), label=\"L=%d\" % L)\n",
    "\n",
    "plt.plot(1-p_list,1-p_list,\"k--\")\n",
    "x0 = 0.5  # percolation threshold\n",
    "plt.plot([x0,x0],[0,1],\"k--\")\n",
    "plt.title(\"single layer toric code\")\n",
    "plt.xlabel(\"trans rate\")\n",
    "plt.ylabel(\"eff trans rate\")\n",
    "plt.legend()\n",
    "plt.show()"
   ]
  },
  {
   "cell_type": "code",
   "execution_count": 50,
   "id": "b718b417-bcd4-4a4f-ac6f-dd4ff5a79161",
   "metadata": {},
   "outputs": [
    {
     "data": {
      "image/png": "[encoded data removed]",
      "text/plain": [
       "<Figure size 432x288 with 1 Axes>"
      ]
     },
     "metadata": {
      "needs_background": "light"
     },
     "output_type": "display_data"
    }
   ],
   "source": [
    "for i_L, L in enumerate(L_list):\n",
    "    plt.plot(1-p_list,succ_prob_tc[:,i_L],\".-\", color =\"C%d\" % (i_L+1), label=\"L=%d\" % L)\n",
    "\n",
    "plt.plot(1-p_list,1-p_list,\"k--\")\n",
    "x0 = 0.5  # percolation threshold\n",
    "plt.plot([x0,x0],[0,1],\"k--\")\n",
    "plt.title(\"single layer toric code\")\n",
    "plt.xlabel(\"trans rate\")\n",
    "plt.ylabel(\"eff trans rate\")\n",
    "plt.legend()\n",
    "plt.show()"
   ]
  },
  {
   "cell_type": "markdown",
   "id": "ced9f424-cb45-4c03-a9e9-2190d222603f",
   "metadata": {},
   "source": [
    "## foliated toric code"
   ]
  },
  {
   "cell_type": "code",
   "execution_count": null,
   "id": "cff51f04-33f7-427c-a581-f1aea0fd5b45",
   "metadata": {},
   "outputs": [],
   "source": [
    "Nl_list = np.arange(4,8)\n",
    "p_list = np.linspace(0.15,0.35,8)\n",
    "Nrep = 400\n",
    "succ_prob_3dtc = np.zeros((len(p_list),len(Nl_list)))\n",
    "\n",
    "for i_L, Nl in enumerate(Nl_list):\n",
    "    tic = time.time()\n",
    "    \n",
    "    r1, r2 = Nl, Nl\n",
    "    # in layer stabilizer group\n",
    "    Sx_mat = np.zeros((r1*r2,2*r1*r2),dtype=int)\n",
    "    for i_y in range(r2):\n",
    "        for i_x in range(r1):\n",
    "            Sx_mat[i_y*r1 + i_x, 2*(i_y*r1 + i_x)] = 1\n",
    "            Sx_mat[i_y*r1 + i_x, 2*(i_y*r1 + i_x)+1] = 1\n",
    "            Sx_mat[i_y*r1 + i_x, 2*(i_y*r1+(i_x-1)%r1 )] = 1\n",
    "            Sx_mat[i_y*r1 + i_x, 2*(((i_y-1)%r2)*r1+i_x)+1] = 1\n",
    "\n",
    "    Nq_l = np.size(Sx_mat,1) # number of data qubits per layer\n",
    "    Ns_l = np.size(Sx_mat,0) # number of stabilizers per layer\n",
    "\n",
    "    # Nl: number of layers in foliated code\n",
    "    N = Nl*(Nq_l+Ns_l) # number of data qubits\n",
    "    Ns = Nl*Ns_l # number of stabilizers\n",
    "    B_orig = nx.Graph()\n",
    "    B_orig.add_nodes_from(np.arange(N))\n",
    "    s_nodes = [\"s%d\" % s for s in np.arange(Ns)]\n",
    "    B_orig.add_nodes_from(s_nodes)\n",
    "    for row in range(Ns_l):\n",
    "        qs = np.argwhere(Sx_mat[row,:]>0)[:,0]\n",
    "        for i_l in range(Nl):\n",
    "            B_orig.add_edges_from([(\"s%d\" % ((i_l*Ns_l)+row), i_l*(Nq_l+Ns_l)+q) for q in qs])\n",
    "    for i_l in range(Nl):\n",
    "        B_orig.add_edges_from([(\"s%d\" % ((i_l*Ns_l)+sq), i_l*(Nq_l+Ns_l)+Nq_l+sq) for sq in range(Ns_l)])\n",
    "        B_orig.add_edges_from([(\"s%d\" % ((i_l*Ns_l)+sq), ((i_l-1)%Nl)*(Nq_l+Ns_l)+Nq_l+sq) for sq in range(Ns_l)])\n",
    "\n",
    "    logicals_l = np.zeros((2,2*r1*r2))\n",
    "    logicals_l[0,1:2*r1:2] = np.ones(r1) \n",
    "    logicals_l[1,0:2*r1*r2:2*r1] = np.ones(r2) \n",
    "\n",
    "    logicals = np.zeros((2,N))\n",
    "    for i_l in range(Nl):\n",
    "        logicals[:,i_l*(Nq_l+Ns_l):i_l*(Nq_l+Ns_l)+Nq_l] = logicals_l\n",
    "\n",
    "    for i_p, p in enumerate(p_list):\n",
    "        for i_rep in range(Nrep):\n",
    "            loss_inds = np.random.permutation(np.argwhere(np.random.rand(N)<p)[:,0])        \n",
    "            succ_prob_3dtc[i_p,i_L] += succ_prob_calc(B_orig, logicals, s_nodes, loss_inds)\n",
    "\n",
    "    toc = time.time()\n",
    "    print(\"finished L = %d in %.1f secs\" % (Nl,toc-tic))\n",
    "\n",
    "succ_prob_3dtc /= Nrep"
   ]
  },
  {
   "cell_type": "code",
   "execution_count": 6,
   "id": "78d25d4e-df51-4347-8d4a-d45858cff349",
   "metadata": {},
   "outputs": [
    {
     "data": {
      "image/png": "[encoded data removed]",
      "text/plain": [
       "<Figure size 432x288 with 1 Axes>"
      ]
     },
     "metadata": {
      "needs_background": "light"
     },
     "output_type": "display_data"
    }
   ],
   "source": [
    "for i_L, L in enumerate(Nl_list):\n",
    "    plt.plot(1-p_list,succ_prob_3dtc[:,i_L],\".-\", color =\"C%d\" % (i_L+1), label=\"L=%d\" % L)\n",
    "\n",
    "plt.plot(1-p_list,1-p_list,\"k--\")\n",
    "x0 = 1-0.25  # percolation threshold\n",
    "plt.plot([x0,x0],[0,1],\"k--\")\n",
    "plt.title(\"single layer toric code\")\n",
    "plt.xlabel(\"trans rate\")\n",
    "plt.ylabel(\"eff trans rate\")\n",
    "plt.legend()\n",
    "plt.show()"
   ]
  },
  {
   "cell_type": "code",
   "execution_count": null,
   "id": "f9d53e87-056e-4e45-90ca-8a228ed12649",
   "metadata": {},
   "outputs": [],
   "source": []
  }
 ],
 "metadata": {
  "kernelspec": {
   "display_name": "Python 3 (ipykernel)",
   "language": "python",
   "name": "python3"
  },
  "language_info": {
   "codemirror_mode": {
    "name": "ipython",
    "version": 3
   },
   "file_extension": ".py",
   "mimetype": "text/x-python",
   "name": "python",
   "nbconvert_exporter": "python",
   "pygments_lexer": "ipython3",
   "version": "3.9.12"
  }
 },
 "nbformat": 4,
 "nbformat_minor": 5
}
