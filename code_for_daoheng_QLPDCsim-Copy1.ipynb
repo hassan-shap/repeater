{
 "cells": [
  {
   "cell_type": "code",
   "execution_count": 2,
   "id": "a77c29b4-943c-41f2-8968-1ac8c1823c96",
   "metadata": {},
   "outputs": [],
   "source": [
    "import numpy as np\n",
    "import matplotlib.pyplot as plt\n",
    "import networkx as nx\n",
    "from networkx.algorithms import bipartite\n",
    "from networkx.drawing.nx_agraph import write_dot, graphviz_layout\n",
    "import time"
   ]
  },
  {
   "cell_type": "code",
   "execution_count": 18,
   "id": "87c3bf8a-564d-4338-b896-cf11ca746ef4",
   "metadata": {},
   "outputs": [],
   "source": [
    "# mod 2 inverse function\n",
    "# adapted from https://towardsdatascience.com/find-the-inverse-of-a-matrix-using-python-3aeb05b48308\n",
    "\n",
    "# write rows in reduced row echelon (rref) form\n",
    "def invert_matrix(M):\n",
    "    # store dimension\n",
    "    n = M.shape[0]\n",
    "    \n",
    "    # A must be square with non-zero determinant\n",
    "    # assert np.linalg.det(M) != 0\n",
    "\n",
    "    # identity matrix with same shape as A\n",
    "    I = np.identity(n=n, dtype = int)\n",
    "\n",
    "    # form the augmented matrix by concatenating A and I\n",
    "    M = np.concatenate((M, I), axis=1)\n",
    "\n",
    "    # move all zeros to buttom of matrix\n",
    "    M = np.concatenate((M[np.any(M != 0, axis=1)], M[np.all(M == 0, axis=1)]), axis=0)\n",
    "\n",
    "    # iterate over matrix rows\n",
    "    for i in range(0, n):\n",
    "\n",
    "        # initialize row-swap iterator\n",
    "        j = 1\n",
    "\n",
    "        # select pivot value\n",
    "        pivot = M[i][i]\n",
    "\n",
    "        # find next non-zero leading coefficient\n",
    "        while pivot == 0 and i + j < n:\n",
    "            # perform row swap operation\n",
    "            M[[i, i + j]] = M[[i + j, i]]\n",
    "\n",
    "            # incrememnt row-swap iterator\n",
    "            j += 1\n",
    "\n",
    "            # get new pivot\n",
    "            pivot = M[i][i]\n",
    "\n",
    "        # if pivot is zero, remaining rows are all zeros\n",
    "        if pivot == 0:\n",
    "            # return inverse matrix\n",
    "            return M[:, n:]\n",
    "\n",
    "        # extract row\n",
    "        # row = M[i]\n",
    "\n",
    "        # get 1 along the diagonal\n",
    "        # M[i] = row / pivot\n",
    "\n",
    "        # iterate over all rows except pivot to get augmented matrix into reduced row echelon form\n",
    "        for j in [k for k in range(0, n) if k != i]:\n",
    "            # subtract current row from remaining rows\n",
    "            M[j] = (M[j] - M[i] * M[j][i]) % 2\n",
    "\n",
    "    # return inverse matrix\n",
    "    return M[:, n:]"
   ]
  },
  {
   "cell_type": "code",
   "execution_count": 27,
   "id": "e6bc2816-4b11-4ca7-85e4-7948cb8b8532",
   "metadata": {},
   "outputs": [
    {
     "name": "stdout",
     "output_type": "stream",
     "text": [
      "[[1 1 1]\n",
      " [1 0 1]\n",
      " [1 1 0]]\n",
      "[[1 0 0]\n",
      " [0 0 1]\n",
      " [0 1 1]]\n",
      "[[1 0 0 1 0 1 1 0 0 0 0 0 0 0]\n",
      " [0 1 0 1 1 0 1 0 0 0 0 0 0 0]\n",
      " [0 0 1 1 1 1 0 0 0 0 0 0 0 0]\n",
      " [0 0 0 0 0 0 0 1 1 1 1 0 0 0]\n",
      " [0 0 0 0 0 0 0 1 0 1 0 1 0 1]\n",
      " [0 0 0 0 0 0 0 0 1 1 0 0 1 1]]\n",
      "[[ True  True  True  True  True  True  True  True  True  True  True  True\n",
      "   True  True]\n",
      " [ True  True  True  True  True  True  True  True  True  True  True  True\n",
      "   True  True]\n",
      " [ True  True  True  True  True  True  True  True  True  True  True  True\n",
      "   True  True]\n",
      " [ True  True  True  True  True  True  True  True  True  True  True  True\n",
      "   True  True]\n",
      " [ True  True  True  True  True  True  True  True  True  True  True  True\n",
      "   True  True]\n",
      " [ True  True  True  True  True  True  True  True  True  True  True  True\n",
      "   True  True]]\n",
      "[[0 0 0 0 1 1 1 0 0 0 0 0 0 0]]\n",
      "[[0 0 0 0 0 0 0 1 1 0 0 0 0 1]]\n",
      "X stabilizers: [[0 0 0 0 1 1 1]]\n",
      "Z stabilizers: [[1 1 0 0 0 0 1]]\n",
      "equvalient to [1]*n (mod S), (S denotes stabilizer group)\n"
     ]
    }
   ],
   "source": [
    "# obtain the (symplectic) parity check matrices H_XZ: dim 2*((n-k)*n) -> n * (2*(n-k)): \n",
    "\n",
    "# obtain the logical operator: the complete set of k logical-X + k logical-Z: each dim k*(2n)-> k*n:\n",
    "# follow the procedure in Chapter 4 of Gottesman’s thesis: https://thesis.library.caltech.edu/2900/2/THESIS.pdf\n",
    "# H_XZ = \n",
    "\n",
    "# logical operator example: \n",
    "# on 7-qubit:\n",
    "# n,k,r follow the notation in Gottesman's thesis:\n",
    "n = 7\n",
    "k = 1\n",
    "r = 3\n",
    "H_XZ = np.array([[1,1,1,1,0,0,0,0,0,0,0,0,0,0],\\\n",
    "                [1,1,0,0,1,1,0,0,0,0,0,0,0,0],\\\n",
    "                [1,0,1,0,1,0,1,0,0,0,0,0,0,0],\\\n",
    "                [0,0,0,0,0,0,0,1,1,1,1,0,0,0],\\\n",
    "                [0,0,0,0,0,0,0,1,1,0,0,1,1,0],\\\n",
    "                [0,0,0,0,0,0,0,1,0,1,0,1,0,1]])\n",
    "\n",
    "# step1: transform into the standard form:\n",
    "# Gaussian elimination on certain blocks:\n",
    "H_Ainv = invert_matrix(H_XZ[0:r,0:r])\n",
    "H_Einv = invert_matrix(H_XZ[r:n-k, n+r:2*n-k])\n",
    "print(H_Ainv)\n",
    "print(H_Einv)\n",
    "H_XZ1 = np.zeros((n-k, 2*n), dtype = int)\n",
    "H_XZ1[0:r, :] = H_Ainv @ H_XZ[0:r, :]\n",
    "H_XZ1[r:n-k, :] = H_Einv @ H_XZ[r:n-k, :]\n",
    "H_XZ1 = H_XZ1 % 2\n",
    "print(H_XZ1)\n",
    "\n",
    "# now have the standard form H_XZ1, for example:\n",
    "\n",
    "H_XZ1_check = np.array([[1,0,0,1,0,1,1,0,0,0,0,0,0,0],\\\n",
    "                [0,1,0,1,1,0,1,0,0,0,0,0,0,0],\\\n",
    "                [0,0,1,1,1,1,0,0,0,0,0,0,0,0],\\\n",
    "                [0,0,0,0,0,0,0,1,1,1,1,0,0,0],\\\n",
    "                [0,0,0,0,0,0,0,1,0,1,0,1,0,1],\\\n",
    "                [0,0,0,0,0,0,0,0,1,1,0,0,1,1]])\n",
    "print(H_XZ1 == H_XZ1_check)\n",
    "\n",
    "\n",
    "# step2: solve the logical operator by different matrix section in the standard form:\n",
    "# notice: k sets of X/Z logical operators in general\n",
    "logicals_X = np.zeros((k, 2*n),dtype = int)\n",
    "logicals_Z = np.zeros((k, 2*n),dtype = int)\n",
    "\n",
    "# logical_X: (U1 U2 U3 | V1 V2 V3)\n",
    "# U1 = 0 (k*r), U2 = E^T (k*(n-k-r)), U3 = I (k*k), \n",
    "# V1 = E^T*C_1^T + C_2^T (k*r), V2 = 0 (k*(n-k-r)), V3 = 0 (k*k):\n",
    "E = H_XZ1[r:n-k, 2*n-k:2*n]\n",
    "C_1 = H_XZ1[0:r, n+r:2*n-k]\n",
    "C_2 = H_XZ1[0:r, 2*n-k:2*n]\n",
    "A_2 = H_XZ1[0:r, n-k:n]\n",
    "logicals_X[0:k,0:r] = np.zeros((k,r),dtype=int)\n",
    "logicals_X[0:k,r:n-k] = np.transpose(E)\n",
    "logicals_X[0:k,n-k:n] = np.eye(k,dtype=int)\n",
    "logicals_X[0:k,n:n+r] = np.transpose(E)@np.transpose(C_1)+np.transpose(C_2)\n",
    "logicals_X[0:k,n+r:2*n-k] = np.zeros((k,n-k-r),dtype=int)\n",
    "logicals_X[0:k,2*n-k:2*n] = np.zeros((k,k),dtype=int)\n",
    "\n",
    "# logical_Z: (U1' U2' U3' | V1' V2' V3')\n",
    "# U1' = 0 (k*r), U2' = 0 (k*(n-k-r)), U3' = 0 (k*k), \n",
    "# V1' = A_2^T (k*r), V2' = 0 (k*(n-k-r)), V3' = I (k*k):\n",
    "logicals_Z[0:k,0:r] = np.zeros((k,r),dtype=int)\n",
    "logicals_Z[0:k,r:n-k] = np.zeros((k,n-k-r),dtype=int)\n",
    "logicals_Z[0:k,n-k:n] = np.zeros((k,k),dtype=int)\n",
    "logicals_Z[0:k,n:n+r] = np.transpose(A_2)\n",
    "logicals_Z[0:k,n+r:2*n-k] = np.zeros((k,n-k-r),dtype=int)\n",
    "logicals_Z[0:k,2*n-k:2*n] = np.eye(k,dtype=int)\n",
    "logicals_X = logicals_X % 2\n",
    "logicals_Z = logicals_Z % 2\n",
    "print(logicals_X)\n",
    "print(logicals_Z)\n",
    "print(\"X stabilizers:\",logicals_X[:,0:n])\n",
    "print(\"Z stabilizers:\",logicals_Z[:,n:2*n])\n",
    "print(\"equvalient to [1]*n (mod S), (S denotes stabilizer group)\")"
   ]
  },
  {
   "cell_type": "code",
   "execution_count": 28,
   "id": "1145e278-cdac-40f4-a2d3-a12222469430",
   "metadata": {},
   "outputs": [],
   "source": [
    "# function for calculating logical operators:\n",
    "def logical_from_Hparity(H_XZ, n, k, r):\n",
    "\n",
    "    # step1: transform into the standard form:\n",
    "    # Gaussian elimination on certain blocks:\n",
    "    H_Ainv = invert_matrix(H_XZ[0:r,0:r])\n",
    "    H_Einv = invert_matrix(H_XZ[r:n-k, n+r:2*n-k])\n",
    "    H_XZ1 = np.zeros((n-k, 2*n), dtype = int)\n",
    "    H_XZ1[0:r, :] = H_Ainv @ H_XZ[0:r, :]\n",
    "    H_XZ1[r:n-k, :] = H_Einv @ H_XZ[r:n-k, :]\n",
    "    H_XZ1 = H_XZ1 % 2\n",
    "\n",
    "    # step2: solve the logical operator by different matrix section in the standard form:\n",
    "    # notice: k sets of X/Z logical operators in general\n",
    "    logicals_X = np.zeros((k, 2*n),dtype = int)\n",
    "    logicals_Z = np.zeros((k, 2*n),dtype = int)\n",
    "\n",
    "    # logical_X: (U1 U2 U3 | V1 V2 V3)\n",
    "    # U1 = 0 (k*r), U2 = E^T (k*(n-k-r)), U3 = I (k*k), \n",
    "    # V1 = E^T*C_1^T + C_2^T (k*r), V2 = 0 (k*(n-k-r)), V3 = 0 (k*k):\n",
    "    E = H_XZ1[r:n-k, 2*n-k:2*n]\n",
    "    C_1 = H_XZ1[0:r, n+r:2*n-k]\n",
    "    C_2 = H_XZ1[0:r, 2*n-k:2*n]\n",
    "    A_2 = H_XZ1[0:r, n-k:n]\n",
    "    logicals_X[0:k,0:r] = np.zeros((k,r),dtype=int)\n",
    "    logicals_X[0:k,r:n-k] = np.transpose(E)\n",
    "    logicals_X[0:k,n-k:n] = np.eye(k,dtype=int)\n",
    "    logicals_X[0:k,n:n+r] = np.transpose(E)@np.transpose(C_1)+np.transpose(C_2)\n",
    "    logicals_X[0:k,n+r:2*n-k] = np.zeros((k,n-k-r),dtype=int)\n",
    "    logicals_X[0:k,2*n-k:2*n] = np.zeros((k,k),dtype=int)\n",
    "\n",
    "    # logical_Z: (U1' U2' U3' | V1' V2' V3')\n",
    "    # U1' = 0 (k*r), U2' = 0 (k*(n-k-r)), U3' = 0 (k*k), \n",
    "    # V1' = A_2^T (k*r), V2' = 0 (k*(n-k-r)), V3' = I (k*k):\n",
    "    logicals_Z[0:k,0:r] = np.zeros((k,r),dtype=int)\n",
    "    logicals_Z[0:k,r:n-k] = np.zeros((k,n-k-r),dtype=int)\n",
    "    logicals_Z[0:k,n-k:n] = np.zeros((k,k),dtype=int)\n",
    "    logicals_Z[0:k,n:n+r] = np.transpose(A_2)\n",
    "    logicals_Z[0:k,n+r:2*n-k] = np.zeros((k,n-k-r),dtype=int)\n",
    "    logicals_Z[0:k,2*n-k:2*n] = np.eye(k,dtype=int)\n",
    "    logicals_X = logicals_X % 2\n",
    "    logicals_Z = logicals_Z % 2\n",
    "\n",
    "    return (logicals_X, logicals_Z)"
   ]
  },
  {
   "cell_type": "code",
   "execution_count": 32,
   "id": "97f09941-bb61-44a5-aff7-d5b0c45b691b",
   "metadata": {},
   "outputs": [
    {
     "name": "stdout",
     "output_type": "stream",
     "text": [
      "[[0 0 0 0 1 1 1 0 0 0 0 0 0 0]]\n",
      "[[0 0 0 0 0 0 0 1 1 0 0 0 0 1]]\n"
     ]
    }
   ],
   "source": [
    "n = 7\n",
    "k = 1\n",
    "r = 3\n",
    "H_XZ = np.array([[1,1,1,1,0,0,0,0,0,0,0,0,0,0],\\\n",
    "                [1,1,0,0,1,1,0,0,0,0,0,0,0,0],\\\n",
    "                [1,0,1,0,1,0,1,0,0,0,0,0,0,0],\\\n",
    "                [0,0,0,0,0,0,0,1,1,1,1,0,0,0],\\\n",
    "                [0,0,0,0,0,0,0,1,1,0,0,1,1,0],\\\n",
    "                [0,0,0,0,0,0,0,1,0,1,0,1,0,1]])\n",
    "logicals_X = logical_from_Hparity(H_XZ, n, k, r)[0]\n",
    "logicals_Z = logical_from_Hparity(H_XZ, n, k, r)[1]\n",
    "print(logicals_X)\n",
    "print(logicals_Z)"
   ]
  },
  {
   "cell_type": "code",
   "execution_count": 10,
   "id": "023ed95d-0227-42b3-a6ed-4c70a8bf5b09",
   "metadata": {},
   "outputs": [],
   "source": [
    "def succ_prob_calc(B_orig, logicals_in, s_nodes, loss_inds):\n",
    "    ######################################################\n",
    "    ## inputs:\n",
    "    ## B_orig [type: networkx]: stabilizer graph, two kinds of nodes: qubit 1...N and stabilizer s1...s_{Ns}\n",
    "    ## logicals_in [type: numpy array]: logical operators in every row, columns act on qubits\n",
    "    ## s_nodes [type: list]: list of stabilizer nodes s1...s_{Ns}\n",
    "    ## loss_inds [type: numpy array]: index of erased qubits\n",
    "    #####################\n",
    "    ## output:\n",
    "    ## succ_fail [type: binary value]: 0 (failure), 1(success)\n",
    "    ######################################################\n",
    "    B = B_orig.copy()\n",
    "    logicals = np.copy(logicals_in)\n",
    "    s_nodes_set = set(np.copy(s_nodes))\n",
    "\n",
    "    Ns_remain = len(s_nodes_set) # number of stabilizer generators\n",
    "    q_remain = list(set(B.nodes())-s_nodes_set) # number of qubits (anciall+data)\n",
    "    node_list = list(s_nodes_set) + q_remain  # indices of all nodes in graph\n",
    "    adj_mat_new = nx.to_numpy_array(B, nodelist = node_list) # adjaceny matrix of stabilizer graph\n",
    "    Sx_mat = adj_mat_new[:Ns_remain,Ns_remain:] # stabilizer group matrix\n",
    "\n",
    "    logic_succ = True\n",
    "    for q in loss_inds:\n",
    "        ## correct logical operators\n",
    "        if logicals.ndim == 1:\n",
    "            if logicals[q]>0:            \n",
    "                st_ind = np.argwhere(Sx_mat[:,q]>0)[:,0]\n",
    "                if len(st_ind)>0:\n",
    "                    logicals = (logicals+Sx_mat[st_ind[0],:]) % 2\n",
    "                else:\n",
    "                    logic_succ = False\n",
    "                    break\n",
    "        else:\n",
    "            for i_log in range(np.size(logicals,0)):\n",
    "                if logicals[i_log,q]>0:            \n",
    "                    st_ind = np.argwhere(Sx_mat[:,q]>0)[:,0]\n",
    "                    if len(st_ind)>0:\n",
    "                        logicals[i_log,:] = (logicals[i_log,:]+Sx_mat[st_ind[0],:]) % 2\n",
    "                    else:\n",
    "                        logic_succ = False\n",
    "                        # logicals[i_log,:] = np.zeros(np.size(logicals,1))\n",
    "                        break\n",
    "            if not logic_succ:\n",
    "                break\n",
    "            \n",
    "        ## update stabilizer group\n",
    "        ## first: update graph\n",
    "        if q in B:\n",
    "            sq = [n for n in B.neighbors(q)]\n",
    "            if len(sq)==1:\n",
    "                B.remove_nodes_from(sq)\n",
    "                s_nodes_set -= set(sq)\n",
    "            elif len(sq)>1:\n",
    "                double_edgs = []\n",
    "                for i in range(len(sq)-1):\n",
    "                    n0 = set(B.neighbors(sq[i]))\n",
    "                    n1 = set(B.neighbors(sq[i+1]))\n",
    "                    rep_qs = n0.intersection(n1)\n",
    "                    q0 = list(set(n0)-rep_qs)\n",
    "                    q1 = list(set(n1)-rep_qs)\n",
    "                    double_edgs += [(sq[i], e) for e in q0]\n",
    "                    double_edgs += [(sq[i], e) for e in q1]\n",
    "                G = nx.Graph()\n",
    "                G.add_nodes_from(sq[:-1])\n",
    "                G.add_edges_from(double_edgs)\n",
    "                sq_remain = list(s_nodes_set-set(sq))\n",
    "                for s in sq_remain:\n",
    "                    G.add_edges_from([(s, e) for e in B.neighbors(s)])\n",
    "                B = G\n",
    "                s_nodes_set -= {sq[-1]}\n",
    "\n",
    "        ## second: update stabilizer group matrix\n",
    "            Ns_remain = len(s_nodes_set)\n",
    "            if Ns_remain> 0:\n",
    "                q_remain = list(set(B.nodes())-s_nodes_set)\n",
    "                node_list = list(s_nodes_set) + q_remain\n",
    "                adj_mat_new = nx.to_numpy_matrix(B, nodelist = node_list)\n",
    "                Sx_red = adj_mat_new[:Ns_remain,Ns_remain:]\n",
    "                Sx_mat = np.zeros((Ns_remain,N))\n",
    "                Sx_mat[:,q_remain] = Sx_red\n",
    "            else:\n",
    "                Sx_mat = []\n",
    "                break\n",
    "\n",
    "    ## check if logical error happens\n",
    "    if logicals.ndim == 1:\n",
    "        logic_sum = np.sum(logicals)> 0\n",
    "    else:\n",
    "        logic_sum = np.sum(np.sum(logicals,axis=1))> (np.size(logicals,0)-1)\n",
    "        \n",
    "    succ_fail = 0 # default value: failure\n",
    "    if Ns_remain > 0 and logic_sum and logic_succ:\n",
    "        succ_fail = 1 # success\n",
    "\n",
    "    return succ_fail"
   ]
  },
  {
   "cell_type": "markdown",
   "id": "8b93a40e-cbe9-455b-9054-4223ae428f89",
   "metadata": {},
   "source": [
    "## code breakdown illustration\n",
    "Here we use 7-qubit code as an example and show how the algorithm performs."
   ]
  },
  {
   "cell_type": "code",
   "execution_count": 11,
   "id": "f9fa76cf-9e80-4758-8333-190bddab996f",
   "metadata": {},
   "outputs": [
    {
     "data": {
      "image/png": "[encoded data removed]",
      "text/plain": [
       "<Figure size 432x288 with 1 Axes>"
      ]
     },
     "metadata": {},
     "output_type": "display_data"
    },
    {
     "name": "stdout",
     "output_type": "stream",
     "text": [
      "list of erased qubits: [0 3]\n",
      "-------------------------\n",
      "erased qubit: 0\n",
      "s0 is applied to log op.\n",
      "log op. is  [0. 0. 1. 1. 0. 0. 1.]\n",
      "stabilizer ops. are\n",
      "[[0. 1. 1. 0. 0. 1. 1.]\n",
      " [0. 0. 1. 1. 1. 1. 0.]]\n"
     ]
    },
    {
     "data": {
      "image/png": "[encoded data removed]",
      "text/plain": [
       "<Figure size 432x288 with 1 Axes>"
      ]
     },
     "metadata": {},
     "output_type": "display_data"
    },
    {
     "name": "stdout",
     "output_type": "stream",
     "text": [
      "-------------------------\n",
      "erased qubit: 3\n",
      "s1 is applied to log op.\n",
      "log op. is  [0. 0. 0. 0. 1. 1. 1.]\n",
      "stabilizer ops. are\n",
      "[[0. 1. 1. 0. 0. 1. 1.]]\n"
     ]
    },
    {
     "data": {
      "image/png": "[encoded data removed]",
      "text/plain": [
       "<Figure size 432x288 with 1 Axes>"
      ]
     },
     "metadata": {},
     "output_type": "display_data"
    },
    {
     "name": "stdout",
     "output_type": "stream",
     "text": [
      "-------------------------\n",
      "success!\n"
     ]
    }
   ],
   "source": [
    "## 7-qubit stabilizer matrix\n",
    "Sx_mat = np.array([[1,1,1,1,0,0,0],\\\n",
    "            [1,1,0,0,1,1,0],\\\n",
    "            [1,0,1,0,1,0,1]])\n",
    "\n",
    "N = np.size(Sx_mat,1) # number of data qubits \n",
    "Ns = np.size(Sx_mat,0) # number of stabilizers \n",
    "\n",
    "## construct stabilizer graph\n",
    "B_orig = nx.Graph()\n",
    "B_orig.add_nodes_from(np.arange(N))\n",
    "s_nodes = [\"s%d\" % s for s in np.arange(Ns)]\n",
    "B_orig.add_nodes_from(s_nodes)\n",
    "for row in range(np.size(Sx_mat,0)):\n",
    "    qs = np.argwhere(Sx_mat[row,:]>0)[:,0]\n",
    "    B_orig.add_edges_from([(\"s%d\" % row, q) for q in qs])\n",
    "\n",
    "nx.draw(B_orig,  with_labels=True)\n",
    "plt.show()\n",
    "## logical operator\n",
    "logical = np.ones(N)\n",
    "\n",
    "p = 0.3 # loss probability\n",
    "## generate an instance of loss events\n",
    "loss_inds = np.random.permutation(np.argwhere(np.random.rand(N)<p)[:,0])\n",
    "print(\"list of erased qubits:\", loss_inds)\n",
    "print(\"-------------------------\")\n",
    "\n",
    "B = B_orig.copy()\n",
    "s_nodes_set = set(np.copy(s_nodes))\n",
    "\n",
    "Ns_remain = len(s_nodes_set)\n",
    "q_remain = list(set(B.nodes())-s_nodes_set)\n",
    "node_list = list(s_nodes_set) + q_remain\n",
    "adj_mat_new = nx.to_numpy_array(B, nodelist = node_list)\n",
    "Sx_mat = adj_mat_new[:Ns_remain,Ns_remain:]\n",
    "\n",
    "logic_succ = True\n",
    "for q in loss_inds:\n",
    "    print(\"erased qubit:\", q)\n",
    "    if logical[q]>0:            \n",
    "        st_ind = np.argwhere(Sx_mat[:,q]>0)[:,0]\n",
    "        if len(st_ind)>0:\n",
    "            print(\"s%d is applied to log op.\" % st_ind[0])\n",
    "            # print(\"sum is \", ((logical+Sx_mat[st_ind[0],:]) % 2))\n",
    "            logical = ((logical+Sx_mat[st_ind[0],:]) % 2)\n",
    "        else:\n",
    "            logic_succ = False\n",
    "            break\n",
    "           \n",
    "    print(\"log op. is \", logical)\n",
    "    if q in B:\n",
    "        sq = [n for n in B.neighbors(q)]\n",
    "        if len(sq)==1:\n",
    "            B.remove_nodes_from(sq)\n",
    "            s_nodes_set -= set(sq)\n",
    "        elif len(sq)>1:\n",
    "            double_edgs = []\n",
    "            for i in range(len(sq)-1):\n",
    "                n0 = set(B.neighbors(sq[i]))\n",
    "                n1 = set(B.neighbors(sq[i+1]))\n",
    "                rep_qs = n0.intersection(n1)\n",
    "                q0 = list(set(n0)-rep_qs)\n",
    "                q1 = list(set(n1)-rep_qs)\n",
    "                double_edgs += [(sq[i], e) for e in q0]\n",
    "                double_edgs += [(sq[i], e) for e in q1]\n",
    "            G = nx.Graph()\n",
    "            G.add_nodes_from(sq[:-1])\n",
    "            G.add_edges_from(double_edgs)\n",
    "            sq_remain = list(s_nodes_set-set(sq))\n",
    "            for s in sq_remain:\n",
    "                G.add_edges_from([(s, e) for e in B.neighbors(s)])\n",
    "            B = G\n",
    "            s_nodes_set -= {sq[-1]}\n",
    "        \n",
    "        Ns_remain = len(s_nodes_set)\n",
    "        if Ns_remain> 0:\n",
    "            q_remain = list(set(B.nodes())-s_nodes_set)\n",
    "            node_list = list(s_nodes_set) + q_remain\n",
    "            adj_mat_new = nx.to_numpy_matrix(B, nodelist = node_list)\n",
    "            Sx_red = adj_mat_new[:Ns_remain,Ns_remain:]\n",
    "            keep_cols = np.argwhere(np.sum(Sx_red,axis=0)>0)[:,1]\n",
    "            Sx_red = Sx_red[:,keep_cols]\n",
    "            q_remain = np.array(q_remain)[keep_cols]\n",
    "            Sx_mat = np.zeros((Ns_remain,N))\n",
    "            Sx_mat[:,q_remain] = Sx_red\n",
    "        else:\n",
    "            Sx_mat = []\n",
    "            break\n",
    "            \n",
    "        print(\"stabilizer ops. are\")\n",
    "        print(Sx_mat)\n",
    "            # print(s_nodes_set,q_remain)\n",
    "\n",
    "    nx.draw(B,  with_labels=True)\n",
    "    plt.show()\n",
    "    print(\"-------------------------\")\n",
    "\n",
    "## check if logical error happens\n",
    "logic_sum = np.sum(logical)> 0        \n",
    "succ_fail = 0 # default value: failure\n",
    "if Ns_remain > 0 and logic_sum and logic_succ:\n",
    "    succ_fail = 1 # success\n",
    "if succ_fail:\n",
    "    print(\"success!\")\n",
    "else:\n",
    "    print(\"logical error!\")\n"
   ]
  },
  {
   "cell_type": "markdown",
   "id": "a527b12b-772a-4692-825c-f538a3e1ef55",
   "metadata": {},
   "source": [
    "## Example 1: single layer 7-qubit code"
   ]
  },
  {
   "cell_type": "markdown",
   "id": "fd364bfd-43d0-4063-a089-59baa010e633",
   "metadata": {},
   "source": [
    "#### Sanity check 1: 7-qubit code"
   ]
  },
  {
   "cell_type": "code",
   "execution_count": 205,
   "id": "8fce8133-d11e-447b-b550-128b5c62c565",
   "metadata": {},
   "outputs": [],
   "source": [
    "H_XZ = np.array([[1,1,1,1,0,0,0,0,0,0,0,0,0,0],\\\n",
    "                [1,1,0,0,1,1,0,0,0,0,0,0,0,0],\\\n",
    "                [1,0,1,0,1,0,1,0,0,0,0,0,0,0],\\\n",
    "                [0,0,0,0,0,0,0,1,1,1,1,0,0,0],\\\n",
    "                [0,0,0,0,0,0,0,1,1,0,0,1,1,0],\\\n",
    "                [0,0,0,0,0,0,0,1,0,1,0,1,0,1]])\n",
    "n=7\n",
    "N = 7 # number of data qubits \n",
    "Ns = 3 # number of stabilizers\n",
    "r=3\n",
    "k = 1\n",
    "\n",
    "logicals_X = logical_from_Hparity(H_XZ, N, k, Ns)[0]\n",
    "logicals_Z = logical_from_Hparity(H_XZ, N, k, Ns)[1]\n",
    "\n",
    "Sx_mat = H_XZ[0:r,0:n]"
   ]
  },
  {
   "cell_type": "code",
   "execution_count": 206,
   "id": "514e8d3c-0350-4e4b-9581-ae7f3b20ae5e",
   "metadata": {},
   "outputs": [
    {
     "name": "stdout",
     "output_type": "stream",
     "text": [
      "[[0 0 0 0 1 1 1]]\n"
     ]
    }
   ],
   "source": [
    "## construct stabilizer graph\n",
    "B_orig = nx.Graph()\n",
    "B_orig.add_nodes_from(np.arange(N))\n",
    "s_nodes = [\"s%d\" % s for s in np.arange(Ns)]\n",
    "B_orig.add_nodes_from(s_nodes)\n",
    "for row in range(np.size(Sx_mat,0)):\n",
    "    qs = np.argwhere(Sx_mat[row,:]>0)[:,0]\n",
    "    B_orig.add_edges_from([(\"s%d\" % row, q) for q in qs])\n",
    "\n",
    "#nx.draw(B_orig,  with_labels=True)\n",
    "#plt.show()\n",
    "# logical = np.ones(N)\n",
    "logical_t = logicals_X[:,0:n]\n",
    "print(logical_t)\n",
    "\n",
    "p_list = np.linspace(0.01,0.99,20)\n",
    "Nrep = 2000 # number of MC iterations\n",
    "succ_prob = np.zeros(len(p_list))\n",
    "\n",
    "for i_p, p in enumerate(p_list):\n",
    "    for i_rep in range(Nrep):\n",
    "        for log_i in range(len(logical_t)):\n",
    "            logical = logical_t[log_i]\n",
    "            loss_inds = np.random.permutation(np.argwhere(np.random.rand(N)<p)[:,0])\n",
    "            succ_prob[i_p] += succ_prob_calc(B_orig, logical, s_nodes, loss_inds)\n",
    "            \n",
    "succ_prob /= (Nrep*k)"
   ]
  },
  {
   "cell_type": "code",
   "execution_count": 207,
   "id": "69d68380-9d87-4abd-b337-2d66e76a0bfd",
   "metadata": {},
   "outputs": [
    {
     "data": {
      "text/plain": [
       "[<matplotlib.lines.Line2D at 0x7fd88311d450>]"
      ]
     },
     "execution_count": 207,
     "metadata": {},
     "output_type": "execute_result"
    },
    {
     "data": {
      "image/png": "[encoded data removed]",
      "text/plain": [
       "<Figure size 432x288 with 1 Axes>"
      ]
     },
     "metadata": {
      "needs_background": "light"
     },
     "output_type": "display_data"
    }
   ],
   "source": [
    "### sanity check 1\n",
    "plt.plot(1-p_list,succ_prob,\"o\")\n",
    "f = lambda x: x**7 + 7*x**6*(1-x) + 7*3*x**5 * (1-x)**2 #+ 7*5 *x**4 * (1-x)**3\n",
    "plt.plot(1-p_list,f(1-p_list),\"-\")\n",
    "plt.plot(1-p_list,1-p_list,\"k--\")\n",
    "x0 = 1-2/7\n",
    "plt.plot([x0,x0],[0,1],\"k--\")"
   ]
  },
  {
   "cell_type": "markdown",
   "id": "1bcfaae1-bc17-4f76-9633-cf07d6990480",
   "metadata": {},
   "source": [
    "#### Sanity check 2: 5-qubit code"
   ]
  },
  {
   "cell_type": "code",
   "execution_count": 229,
   "id": "60ded920-1475-4fe2-8fde-870df53443d0",
   "metadata": {},
   "outputs": [
    {
     "name": "stdout",
     "output_type": "stream",
     "text": [
      "[[0 0 0 0 1 1 0 0 1 0]]\n",
      "[[0 0 0 0 0 1 1 1 1 1]]\n",
      "[[1 0 0 1 0]\n",
      " [0 1 0 0 1]\n",
      " [1 0 1 0 0]\n",
      " [0 1 0 1 0]]\n"
     ]
    }
   ],
   "source": [
    "### [[5,1,3]]-code\n",
    "### whether work for non-CSS codes (multilayers???) one-layer sanity check.\n",
    "H_XZ = np.array([[1,0,0,1,0,0,1,1,0,0],\n",
    "               [0,1,0,0,1,0,0,1,1,0],\n",
    "               [1,0,1,0,0,0,0,0,1,1],\n",
    "               [0,1,0,1,0,1,0,0,0,1]], dtype = int)\n",
    "\n",
    "n=5\n",
    "N = 5 # number of data qubits \n",
    "Ns = 4 # number of stabilizers\n",
    "r=4\n",
    "k = 1\n",
    "\n",
    "logicals_X = logical_from_Hparity(H_XZ, N, k, Ns)[0]\n",
    "logicals_Z = logical_from_Hparity(H_XZ, N, k, Ns)[1]\n",
    "\n",
    "#print(logicals_X)\n",
    "#print(logicals_Z)\n",
    "\n",
    "Sx_mat = H_XZ[0:4,0:n]\n",
    "Sz_mat = H_XZ[0:4,n:2*n]\n",
    "#print(Sx_mat)"
   ]
  },
  {
   "cell_type": "code",
   "execution_count": 230,
   "id": "e5480b78-7ea9-4aab-ad50-ce160b8de292",
   "metadata": {},
   "outputs": [],
   "source": [
    "## construct stabilizer graph\n",
    "B_orig = nx.Graph()\n",
    "B_orig.add_nodes_from(np.arange(N))\n",
    "s_nodes = [\"s%d\" % s for s in np.arange(Ns)]\n",
    "B_orig.add_nodes_from(s_nodes)\n",
    "for row in range(np.size(Sx_mat,0)):\n",
    "    qs = np.argwhere(Sx_mat[row,:]>0)[:,0]\n",
    "    B_orig.add_edges_from([(\"s%d\" % row, q) for q in qs])\n",
    "\n",
    "#nx.draw(B_orig,  with_labels=True)\n",
    "#plt.show()\n",
    "# logical = np.ones(N)\n",
    "#logical_t = logicals_X[:,0:n]\n",
    "#print(logical_t)\n",
    "logical_x = np.array([[1,1,1,1,1]],dtype=int)\n",
    "\n",
    "p_list = np.linspace(0.01,0.99,20)\n",
    "Nrep = 2000 # number of MC iterations\n",
    "succ_prob = np.zeros(len(p_list))\n",
    "\n",
    "for i_p, p in enumerate(p_list):\n",
    "    for i_rep in range(Nrep):\n",
    "        for log_i in range(len(logical_t)):\n",
    "            logical = logical_t[log_i]\n",
    "            loss_inds = np.random.permutation(np.argwhere(np.random.rand(N)<p)[:,0])\n",
    "            succ_prob[i_p] += succ_prob_calc(B_orig, logical, s_nodes, loss_inds)\n",
    "            \n",
    "succ_prob /= (Nrep*k)"
   ]
  },
  {
   "cell_type": "code",
   "execution_count": 235,
   "id": "2eaa3520-1822-46eb-b78d-2e60042a87a6",
   "metadata": {},
   "outputs": [
    {
     "data": {
      "text/plain": [
       "[<matplotlib.lines.Line2D at 0x7fd882767d30>]"
      ]
     },
     "execution_count": 235,
     "metadata": {},
     "output_type": "execute_result"
    },
    {
     "data": {
      "image/png": "[encoded data removed]",
      "text/plain": [
       "<Figure size 432x288 with 1 Axes>"
      ]
     },
     "metadata": {
      "needs_background": "light"
     },
     "output_type": "display_data"
    }
   ],
   "source": [
    "### sanity check 1\n",
    "plt.plot(1-p_list,succ_prob,\"o\")\n",
    "f = lambda x: x**5 + 5*x**4*(1-x) + 10*x**3*(1-x)**2\n",
    "plt.plot(1-p_list,f(1-p_list),\"-\")\n",
    "plt.plot(1-p_list,1-p_list,\"k--\")\n",
    "x0 = 1-2/5\n",
    "plt.plot([x0,x0],[0,1],\"k--\")"
   ]
  },
  {
   "cell_type": "markdown",
   "id": "694cf55d-d9d4-4aab-a8b4-dd480a5623db",
   "metadata": {},
   "source": [
    "#### Sanity check 3: toric codes"
   ]
  },
  {
   "cell_type": "code",
   "execution_count": null,
   "id": "11c5f6dd-e59b-49de-a094-114d06079bb7",
   "metadata": {},
   "outputs": [],
   "source": []
  },
  {
   "cell_type": "markdown",
   "id": "88627ae8-f5b9-4515-a0f5-d27598b6ba39",
   "metadata": {},
   "source": [
    "## multi-layer"
   ]
  },
  {
   "cell_type": "code",
   "execution_count": null,
   "id": "303852a0-68c5-4f97-9565-5c2908b94cfa",
   "metadata": {},
   "outputs": [],
   "source": [
    "# original: \n",
    "Sx_mat = np.array([[1,1,1,1,0,0,0],\\\n",
    "              [1,1,0,0,1,1,0],\\\n",
    "              [1,0,1,0,1,0,1]])\n",
    "H_XZ = np.array([[1,1,1,1,0,0,0,0,0,0,0,0,0,0],\\\n",
    "                [1,1,0,0,1,1,0,0,0,0,0,0,0,0],\\\n",
    "                [1,0,1,0,1,0,1,0,0,0,0,0,0,0],\\\n",
    "                [0,0,0,0,0,0,0,1,1,1,1,0,0,0],\\\n",
    "                [0,0,0,0,0,0,0,1,1,0,0,1,1,0],\\\n",
    "                [0,0,0,0,0,0,0,1,0,1,0,1,0,1]])\n",
    "n = 7\n",
    "k = 1\n",
    "r = 3\n",
    "Sx_mat = H_XZ[:, 0:n]\n",
    "Sx_mat = Sx_mat[~np.all(Sx_mat == 0, axis=1)]\n",
    "print(Sx_mat)\n",
    "Nq_l = np.size(Sx_mat,1) # number of data qubits per layer\n",
    "Ns_l = np.size(Sx_mat,0) # number of stabilizers per layer\n",
    "logicals_X = logical_from_Hparity(H_XZ, Nq_l, k, Ns_l)[0]\n",
    "logicals_Z = logical_from_Hparity(H_XZ, Nq_l, k, Ns_l)[1]\n",
    "logical_t = logicals_X[:,0:Nq_l]\n",
    "\n",
    "Nl_list = np.arange(2,5) # number of layers\n",
    "p_list = np.linspace(0.01,0.4,20) # list of loss probability\n",
    "Nrep = 2000 # number of MC iterations\n",
    "succ_prob_7q = np.zeros((len(p_list),len(Nl_list)))\n",
    "\n",
    "for i_L, Nl in enumerate(Nl_list):\n",
    "    tic = time.time()\n",
    "    # Nl = 3 # number of layers in foliated code\n",
    "    N = Nl*(Nq_l+Ns_l) # number of data qubits\n",
    "    Ns = Nl*Ns_l # number of stabilizers\n",
    "    B_orig = nx.Graph()\n",
    "    B_orig.add_nodes_from(np.arange(N))\n",
    "    s_nodes = [\"s%d\" % s for s in np.arange(Ns)]\n",
    "    B_orig.add_nodes_from(s_nodes)\n",
    "    for row in range(Ns_l):\n",
    "        qs = np.argwhere(Sx_mat[row,:]>0)[:,0]\n",
    "        for i_l in range(Nl):\n",
    "            B_orig.add_edges_from([(\"s%d\" % ((i_l*Ns_l)+row), i_l*(Nq_l+Ns_l)+q) for q in qs])\n",
    "    for i_l in range(Nl):\n",
    "        B_orig.add_edges_from([(\"s%d\" % ((i_l*Ns_l)+sq), i_l*(Nq_l+Ns_l)+Nq_l+sq) for sq in range(Ns_l)])\n",
    "        B_orig.add_edges_from([(\"s%d\" % ((i_l*Ns_l)+sq), ((i_l-1)%Nl)*(Nq_l+Ns_l)+Nq_l+sq) for sq in range(Ns_l)])\n",
    "\n",
    "    pos = dict()\n",
    "    for q in range(N):\n",
    "        x = q%(Nq_l+Ns_l)\n",
    "        y = int(q/(Nq_l+Ns_l))\n",
    "        if x >= Nq_l:\n",
    "            pos[q] = (2*(x-4)-4.8,y+0.7)\n",
    "        else:\n",
    "            pos[q] = (x,y)\n",
    "    for sq in range(Ns):\n",
    "        x = sq% Ns_l\n",
    "        y = int(sq/Ns_l)\n",
    "        pos[\"s%d\" % sq] = (2*x+1,y+0.3)\n",
    "\n",
    "    nx.draw(B_orig, pos,  with_labels=True)\n",
    "    plt.show()\n",
    "    \n",
    "    for log_i in range(len(logical_t)):\n",
    "        logical_1l = logical_t[log_i]\n",
    "        logical = np.zeros(N)\n",
    "        for i_l in range(Nl):\n",
    "            logical[i_l*(Nq_l+Ns_l):i_l*(Nq_l+Ns_l)+Nq_l] = logical_1l\n",
    "\n",
    "        for i_p, p in enumerate(p_list):\n",
    "            for i_rep in range(Nrep):\n",
    "                loss_inds = np.random.permutation(np.argwhere(np.random.rand(N)<p)[:,0])\n",
    "                succ_prob_7q[i_p,i_L] += succ_prob_calc(B_orig, logical, s_nodes, loss_inds)\n",
    "    toc = time.time()\n",
    "    print(\"finished L = %d in %.1f secs\" % (Nl,toc-tic))\n",
    "\n",
    "succ_prob_7q /= (Nrep * k)"
   ]
  },
  {
   "cell_type": "markdown",
   "id": "19b37aba-9aae-4ab9-a77a-bd45c165ee94",
   "metadata": {},
   "source": [
    "## QLPDC parity check matrix generation"
   ]
  },
  {
   "cell_type": "code",
   "execution_count": 172,
   "id": "2a378f86-d061-420a-ac32-93ef7aefc968",
   "metadata": {},
   "outputs": [],
   "source": [
    "## adapted from: stackoverflow...\n",
    "def gf2_rank(rows):\n",
    "    \"\"\"\n",
    "    Find rank of a matrix over GF2.\n",
    "    The rows of the matrix are given as nonnegative integers, thought\n",
    "    of as bit-strings.\n",
    "    This function modifies the input list. Use gf2_rank(rows.copy())\n",
    "    instead of gf2_rank(rows) to avoid modifying rows.\n",
    "    \"\"\"\n",
    "    rows_new = []\n",
    "    rank = 0\n",
    "    while rows:\n",
    "        #print(rows)\n",
    "        pivot_row = rows.pop()\n",
    "        #print(pivot_row)\n",
    "        if pivot_row:\n",
    "            rows_new.append(pivot_row)\n",
    "            rank += 1\n",
    "            lsb = pivot_row & -pivot_row\n",
    "            for index, row in enumerate(rows):\n",
    "                if row & lsb:\n",
    "                    rows[index] = row ^ pivot_row\n",
    "    return (rows_new, rank)"
   ]
  },
  {
   "cell_type": "markdown",
   "id": "a947505a-a455-4463-b9dd-e627451f1406",
   "metadata": {},
   "source": [
    "### [[48, 6, 8]]-generalized bicycle (GB) code"
   ]
  },
  {
   "cell_type": "code",
   "execution_count": 4,
   "id": "00347a76-3ad4-43ca-b7c1-72d49e4a12ba",
   "metadata": {},
   "outputs": [],
   "source": [
    "## use [[48,6,8]]-generalized bicycle code as an example (l=24)\n",
    "## l denotes the dim of circulant matrix\n",
    "## the GB (generalized bicycle codes follow the form: [H_X H_Z] ([[H_X 0],[0 H_Z]]): H_X = [A,B], H_Z = [B^T,A^T]\n",
    "## A = (a(x)), B = (b(x)); \n",
    "## [[48,6,8]]-GB code: \n",
    "## a(x) = 1 + x^2 + x^8 + x^15\n",
    "## b(x) = 1 + x^2 + x^12 + x^17\n",
    "from numpy.linalg import matrix_power\n",
    "from numpy.linalg import matrix_rank\n",
    "l = 24\n",
    "P_l = np.zeros((l,l),dtype=int)\n",
    "P_l[0,l-1] = 1\n",
    "P_l[1:l,0:l-1] = np.eye(l-1, dtype=int)\n",
    "A_part = (np.eye(l, dtype=int) + matrix_power(P_l,2) + matrix_power(P_l,8) + matrix_power(P_l,15))%2\n",
    "B_part = (np.eye(l, dtype=int) + matrix_power(P_l,2) + matrix_power(P_l,12) + matrix_power(P_l,17))%2\n",
    "H_X = np.concatenate((A_part, B_part), axis=1)\n",
    "H_Z = np.concatenate((np.transpose(B_part), np.transpose(A_part)), axis=1)\n",
    "H_XZ = np.zeros((2*l,4*l), dtype = int)\n",
    "H_XZ[0:l, 0:2*l] = H_X\n",
    "H_XZ[l:2*l, 2*l:4*l] = H_Z\n",
    "n = 48\n",
    "k = 6\n",
    "r = 21"
   ]
  },
  {
   "cell_type": "code",
   "execution_count": 5,
   "id": "11a3b895-4fa4-4612-80ef-47f8631ebb42",
   "metadata": {},
   "outputs": [
    {
     "name": "stdout",
     "output_type": "stream",
     "text": [
      "[141014555756546, 70507277878273, 175991127294464, 87995563647232, 43997781823616, 21998890911808, 10999445455904, 5499722727952, 143487341330696, 71743670665348, 35871835332674, 17935917666337, 8967967221776, 4483983610888, 2241991805444, 141858475869442, 70929237934721, 35464627355968, 17732313677984, 8866156838992, 4433078419496, 2216539209748, 1108269604874, 554134802437]\n",
      "[175957304443136, 87978652221568, 43989326110784, 21994663055392, 10997331527696, 5498665763848, 2749332881924, 142112146407682, 71056073203841, 35528044990528, 17764022495264, 8882011247632, 145178485590536, 72589242795268, 36294621397634, 18147310698817, 9073663738016, 4536831869008, 2268415934504, 1134207967252, 567103983626, 283551991813, 140879264351234, 70439632175617]\n"
     ]
    }
   ],
   "source": [
    "##########\n",
    "n_row = np.size(H_X,axis=0)\n",
    "H_Xb = []\n",
    "H_Zb = []\n",
    "for i_r in range(n_row):\n",
    "    H_Xb.append(np.sum(H_X[i_r,:]* 2**np.arange(47,-1,-1)))\n",
    "    H_Zb.append(np.sum(H_Z[i_r,:]* 2**np.arange(47,-1,-1)))\n",
    "print(H_Xb)\n",
    "print(H_Zb)"
   ]
  },
  {
   "cell_type": "code",
   "execution_count": 183,
   "id": "b2a8d8cf-0223-4347-9bea-7db6182c0bb3",
   "metadata": {},
   "outputs": [
    {
     "name": "stdout",
     "output_type": "stream",
     "text": [
      "21\n",
      "21\n",
      "21\n",
      "21\n"
     ]
    }
   ],
   "source": [
    "H_Xbc = H_Xb.copy()\n",
    "H_Zbc = H_Zb.copy()\n",
    "H_Xb1, RoX = gf2_rank(H_Xbc)\n",
    "H_Zb1, RoZ = gf2_rank(H_Zbc)\n",
    "print(RoX)\n",
    "print(RoZ)\n",
    "print(len(H_Xb1))\n",
    "print(len(H_Zb1))"
   ]
  },
  {
   "cell_type": "code",
   "execution_count": 184,
   "id": "75e57fff-0bd7-4b20-ab23-45fe855f6051",
   "metadata": {},
   "outputs": [
    {
     "name": "stdout",
     "output_type": "stream",
     "text": [
      "[[1 0 1 ... 0 0 0]\n",
      " [0 1 0 ... 0 0 0]\n",
      " [0 0 1 ... 0 0 0]\n",
      " ...\n",
      " [0 0 0 ... 0 0 0]\n",
      " [0 1 1 ... 0 0 0]\n",
      " [0 1 0 ... 0 0 0]] (21, 48)\n",
      "[[1 0 0 ... 0 1 0]\n",
      " [0 1 0 ... 0 0 1]\n",
      " [1 0 1 ... 0 0 0]\n",
      " ...\n",
      " [1 1 0 ... 0 0 0]\n",
      " [1 0 0 ... 0 0 0]\n",
      " [0 1 0 ... 0 0 0]] (21, 48)\n"
     ]
    }
   ],
   "source": [
    "## transform back to the binary matrix:\n",
    "def Hb_to_H(n,r,H_list):\n",
    "    H_tot = []\n",
    "    for i in range(r):\n",
    "        H_row = []\n",
    "        H_num = H_list[i]\n",
    "        for k in range(n-1,-1,-1):\n",
    "            H_row.append(H_num // (2**k))\n",
    "            H_num = H_num % (2**k)\n",
    "        H_tot.append(H_row)\n",
    "    H_new = np.array(H_tot)\n",
    "    return H_new\n",
    "\n",
    "H_X_new = Hb_to_H(48,21,H_Xb1)\n",
    "H_Z_new = Hb_to_H(48,21,H_Zb1)\n",
    "print(H_X_new, H_X_new.shape)\n",
    "print(H_Z_new, H_Z_new.shape)\n",
    "H_XZ = np.zeros((2*r,4*l), dtype = int)\n",
    "H_XZ[0:r, 0:2*l] = H_X_new\n",
    "H_XZ[r:2*r, 2*l:4*l] = H_Z_new"
   ]
  },
  {
   "cell_type": "markdown",
   "id": "b67ba2c9-89bc-4cf4-8d27-be3149d32b38",
   "metadata": {},
   "source": [
    "### (3,4)-regular code"
   ]
  },
  {
   "cell_type": "code",
   "execution_count": 80,
   "id": "39d6daaf-b8dc-470b-a641-1f2136f322c1",
   "metadata": {},
   "outputs": [],
   "source": [
    "### regular (3,4) LDPC codes, change into QLPDC codes?\n",
    "H_X = np.array([[1,0,1,1,0,0,0,0,0,0,1,0],\\\n",
    "               [1,1,0,0,1,0,0,0,0,0,0,1],\\\n",
    "               [0,1,1,0,0,1,0,0,0,1,0,0],\\\n",
    "               [0,1,0,1,0,0,0,0,1,0,1,0],\\\n",
    "               [0,0,1,0,1,0,1,0,0,0,0,1],\\\n",
    "               [1,0,0,0,0,1,0,1,0,1,0,0],\\\n",
    "               [0,0,0,0,0,1,1,1,0,0,0,1],\\\n",
    "               [0,0,0,1,0,0,0,1,1,1,0,0],\\\n",
    "               [0,0,0,0,1,0,1,0,1,0,1,0]])"
   ]
  },
  {
   "cell_type": "code",
   "execution_count": 185,
   "id": "6a546eb9-a27d-4d01-b62a-9997a5095e9f",
   "metadata": {},
   "outputs": [
    {
     "name": "stdout",
     "output_type": "stream",
     "text": [
      "finished L = 2 in 22892.7 secs\n",
      "finished L = 3 in 53860.1 secs\n",
      "finished L = 4 in 101516.2 secs\n"
     ]
    }
   ],
   "source": [
    "# have both X and Z calculation\n",
    "# in layer stabilizer group\n",
    "Sx_mat = H_XZ[:, 0:n]\n",
    "Sx_mat = Sx_mat[~np.all(Sx_mat == 0, axis=1)]\n",
    "Sz_mat = H_XZ[:, n:2*n]\n",
    "Sz_mat = Sz_mat[~np.all(Sz_mat == 0, axis=1)]\n",
    "Nq_l = np.size(Sx_mat,1) # number of data qubits per layer\n",
    "Ns_l = np.size(Sx_mat,0) # number of stabilizers per layer\n",
    "logicals_X = logical_from_Hparity(H_XZ, Nq_l, k, Ns_l)[0]\n",
    "logicals_Z = logical_from_Hparity(H_XZ, Nq_l, k, Ns_l)[1]\n",
    "logical_tX = logicals_X[:,0:Nq_l]\n",
    "logical_tZ = logicals_Z[:,Nq_l:2*Nq_l]\n",
    "\n",
    "Nl_list = np.arange(2,5) # number of layers\n",
    "p_list = np.linspace(0.01,0.4,20) # list of loss probability\n",
    "Nrep = 2000 # number of MC iterations\n",
    "succ_prob_X = np.zeros((len(p_list),len(Nl_list)))\n",
    "succ_prob_Z = np.zeros((len(p_list),len(Nl_list)))\n",
    "succ_prob_tot = np.zeros((len(p_list),len(Nl_list)))\n",
    "\n",
    "for i_L, Nl in enumerate(Nl_list):\n",
    "    tic = time.time()\n",
    "    # Nl = 3 # number of layers in foliated code\n",
    "    N = Nl*(Nq_l+Ns_l) # number of data qubits\n",
    "    Ns = Nl*Ns_l # number of stabilizers\n",
    "    B_orig = nx.Graph()\n",
    "    B_orig.add_nodes_from(np.arange(N))\n",
    "    s_nodes = [\"s%d\" % s for s in np.arange(Ns)]\n",
    "    B_orig.add_nodes_from(s_nodes)\n",
    "    for row in range(Ns_l):\n",
    "        qs = np.argwhere(Sx_mat[row,:]>0)[:,0]\n",
    "        for i_l in range(Nl):\n",
    "            B_orig.add_edges_from([(\"s%d\" % ((i_l*Ns_l)+row), i_l*(Nq_l+Ns_l)+q) for q in qs])\n",
    "    for i_l in range(Nl):\n",
    "        B_orig.add_edges_from([(\"s%d\" % ((i_l*Ns_l)+sq), i_l*(Nq_l+Ns_l)+Nq_l+sq) for sq in range(Ns_l)])\n",
    "        B_orig.add_edges_from([(\"s%d\" % ((i_l*Ns_l)+sq), ((i_l-1)%Nl)*(Nq_l+Ns_l)+Nq_l+sq) for sq in range(Ns_l)])\n",
    "    \n",
    "    '''\n",
    "    pos = dict()\n",
    "    for q in range(N):\n",
    "        x = q%(Nq_l+Ns_l)\n",
    "        y = int(q/(Nq_l+Ns_l))\n",
    "        if x >= Nq_l:\n",
    "            pos[q] = (2*(x-4)-4.8,y+0.7)\n",
    "        else:\n",
    "            pos[q] = (x,y)\n",
    "    for sq in range(Ns):\n",
    "        x = sq% Ns_l\n",
    "        y = int(sq/Ns_l)\n",
    "        pos[\"s%d\" % sq] = (2*x+1,y+0.3)\n",
    "\n",
    "    nx.draw(B_orig, pos,  with_labels=True)\n",
    "    plt.show()\n",
    "    '''\n",
    "    \n",
    "    for log_i in range(len(logical_tX)):\n",
    "        logical_1l = logical_tX[log_i]\n",
    "        logical = np.zeros(N)\n",
    "        for i_l in range(Nl):\n",
    "            logical[i_l*(Nq_l+Ns_l):i_l*(Nq_l+Ns_l)+Nq_l] = logical_1l\n",
    "\n",
    "        for i_p, p in enumerate(p_list):\n",
    "            for i_rep in range(Nrep):\n",
    "                loss_inds = np.random.permutation(np.argwhere(np.random.rand(N)<p)[:,0])\n",
    "                succ_prob_X[i_p,i_L] += succ_prob_calc(B_orig, logical, s_nodes, loss_inds)\n",
    "    \n",
    "    for log_i in range(len(logical_tZ)):\n",
    "        logical_1l = logical_tZ[log_i]\n",
    "        logical = np.zeros(N)\n",
    "        for i_l in range(Nl):\n",
    "            logical[i_l*(Nq_l+Ns_l):i_l*(Nq_l+Ns_l)+Nq_l] = logical_1l\n",
    "\n",
    "        for i_p, p in enumerate(p_list):\n",
    "            for i_rep in range(Nrep):\n",
    "                loss_inds = np.random.permutation(np.argwhere(np.random.rand(N)<p)[:,0])\n",
    "                succ_prob_Z[i_p,i_L] += succ_prob_calc(B_orig, logical, s_nodes, loss_inds)\n",
    "    toc = time.time()\n",
    "    print(\"finished L = %d in %.1f secs\" % (Nl,toc-tic))\n",
    "\n",
    "succ_prob_X /= (Nrep * k)\n",
    "succ_prob_Z /= (Nrep * k)"
   ]
  },
  {
   "cell_type": "code",
   "execution_count": 193,
   "id": "ccb2f97b-ca8b-4eca-bd21-f09a8075ee81",
   "metadata": {},
   "outputs": [
    {
     "data": {
      "image/png": "[encoded data removed]",
      "text/plain": [
       "<Figure size 432x288 with 1 Axes>"
      ]
     },
     "metadata": {
      "needs_background": "light"
     },
     "output_type": "display_data"
    }
   ],
   "source": [
    "#f = lambda x: x**7 + 7*x**6*(1-x) + 7*3*x**5 * (1-x)**2 #+ 7*5 *x**4 * (1-x)**3\n",
    "f = lambda x: x**5 + 5*x**4*(1-x) + 10*x**3*(1-x)**2\n",
    "#plt.plot(1-p_list,f(1-p_list),\"-\",label=\"1-layer Analytical\")\n",
    "succ_prob_tot = np.multiply(succ_prob_X, succ_prob_Z)\n",
    "for i_L, L in enumerate(Nl_list):\n",
    "    #plt.plot(1-p_list,succ_prob_7q[:,i_L],\".-\", color =\"C%d\" % (i_L+1), label=\"# layer=%d\" % L)\n",
    "    plt.plot(1-p_list,succ_prob_tot[:,i_L],\".-\", color =\"C%d\" % (i_L+1), label=\"# layer=%d\" % L)\n",
    "plt.plot(1-p_list,1-p_list,\"k--\")\n",
    "plt.xlabel(\"trans rate\")\n",
    "plt.ylabel(\"eff trans rate\")\n",
    "plt.legend()\n",
    "plt.title('[[48,6,8]] generalized bicycle code')\n",
    "#plt.savefig(\"48q6l_pdata.pdf\")\n",
    "plt.show()"
   ]
  },
  {
   "cell_type": "code",
   "execution_count": 194,
   "id": "fd225481-b589-45b3-8e59-d8dcb3d98d00",
   "metadata": {},
   "outputs": [
    {
     "name": "stdout",
     "output_type": "stream",
     "text": [
      "[[1.00000000e+00 1.00000000e+00 1.00000000e+00]\n",
      " [1.00000000e+00 1.00000000e+00 1.00000000e+00]\n",
      " [1.00000000e+00 1.00000000e+00 1.00000000e+00]\n",
      " [1.00000000e+00 1.00000000e+00 1.00000000e+00]\n",
      " [1.00000000e+00 1.00000000e+00 1.00000000e+00]\n",
      " [9.99916667e-01 9.99916667e-01 9.99916667e-01]\n",
      " [9.99833340e-01 9.99833340e-01 9.99750014e-01]\n",
      " [9.99333417e-01 9.98417292e-01 9.98583750e-01]\n",
      " [9.98084250e-01 9.97168229e-01 9.95754500e-01]\n",
      " [9.92763000e-01 9.87373444e-01 9.84890812e-01]\n",
      " [9.77544028e-01 9.67927854e-01 9.61870312e-01]\n",
      " [9.39445451e-01 9.09559542e-01 8.85559333e-01]\n",
      " [8.41576750e-01 7.73959063e-01 7.25916861e-01]\n",
      " [6.82883681e-01 5.54340403e-01 4.71049771e-01]\n",
      " [4.80764722e-01 2.97762083e-01 2.17544444e-01]\n",
      " [2.62060694e-01 1.12779333e-01 6.03380486e-02]\n",
      " [1.15684875e-01 2.66317083e-02 8.48925000e-03]\n",
      " [3.97435000e-02 4.19255556e-03 7.18250000e-04]\n",
      " [9.94270833e-03 3.97708333e-04 3.35833333e-05]\n",
      " [1.93322222e-03 3.44722222e-05 6.80555556e-07]]\n"
     ]
    }
   ],
   "source": [
    "print(succ_prob_tot)"
   ]
  },
  {
   "cell_type": "code",
   "execution_count": 195,
   "id": "08a27fbc-deff-4ab0-bfc2-6fc02c277c7c",
   "metadata": {},
   "outputs": [],
   "source": [
    "# write data in a file.\n",
    "np.savetxt('48q6l_pdata.txt', succ_prob_tot, delimiter=',')"
   ]
  },
  {
   "cell_type": "code",
   "execution_count": 197,
   "id": "008b4091-c441-4e2e-859f-4f4861eb81c5",
   "metadata": {},
   "outputs": [],
   "source": [
    "#print(succ_prob_X)\n",
    "#print(succ_prob_Z)"
   ]
  },
  {
   "cell_type": "markdown",
   "id": "fb228b08-5443-49cb-9d19-485a5f6ddd8d",
   "metadata": {},
   "source": [
    "## Example 2: Toric code"
   ]
  },
  {
   "cell_type": "code",
   "execution_count": 64,
   "id": "83a1f3c1-6b03-42c4-a45a-bf069f05dcbf",
   "metadata": {},
   "outputs": [
    {
     "name": "stdout",
     "output_type": "stream",
     "text": [
      "finished L = 4 in 13.6 secs\n",
      "finished L = 6 in 52.4 secs\n",
      "finished L = 8 in 149.4 secs\n",
      "finished L = 10 in 357.0 secs\n"
     ]
    }
   ],
   "source": [
    "L_list = np.arange(4,12,2) # linear dim of toric code\n",
    "p_list = np.linspace(0.01,0.99,20)\n",
    "Nrep = 200\n",
    "succ_prob_tc = np.zeros((len(p_list),len(L_list)))\n",
    "\n",
    "for i_L, L in enumerate(L_list):\n",
    "    tic = time.time()\n",
    "    \n",
    "    r1 = L\n",
    "    r2 = L\n",
    "    N = 2*r1*r2 # number of data qubits\n",
    "    Ns = r1*r2 # number of stabilizers\n",
    "\n",
    "    Sx = np.zeros((r1*r2,2*r1*r2),dtype=int)\n",
    "    pos = dict()\n",
    "    for i_y in range(r2):\n",
    "        for i_x in range(r1):\n",
    "            Sx[i_y*r1 + i_x, 2*(i_y*r1 + i_x)] = 1\n",
    "            Sx[i_y*r1 + i_x, 2*(i_y*r1 + i_x)+1] = 1\n",
    "            Sx[i_y*r1 + i_x, 2*(i_y*r1+(i_x-1)%r1 )] = 1\n",
    "            Sx[i_y*r1 + i_x, 2*(((i_y-1)%r2)*r1+i_x)+1] = 1\n",
    "            pos[\"s%d\" % (i_y*r1 + i_x)] = (i_x-0.1,i_y-0.1)\n",
    "            pos[2*(i_y*r1 + i_x)] = (i_x+0.5,i_y)\n",
    "            pos[2*(i_y*r1 + i_x)+1] = (i_x,i_y+0.5)\n",
    "            pos[2*(i_y*r1+(i_x-1)%r1 )] = (i_x-0.5,i_y)\n",
    "            pos[2*(((i_y-1)%r2)*r1+i_x)+1] = (i_x,i_y-0.5)\n",
    "\n",
    "    B_orig = nx.Graph()\n",
    "    B_orig.add_nodes_from(np.arange(N))#, bipartite=0)\n",
    "    s_nodes = [\"s%d\" % s for s in np.arange(Ns)]\n",
    "    B_orig.add_nodes_from(s_nodes)#, bipartite=1)\n",
    "    for row in range(np.size(Sx,0)):\n",
    "        qs = np.argwhere(Sx[row,:]>0)[:,0]\n",
    "        B_orig.add_edges_from([(\"s%d\" % row, q) for q in qs])\n",
    "\n",
    "    logicals = np.zeros((2,2*r1*r2))\n",
    "    logicals[0,1:2*r1:2] = np.ones(r1) \n",
    "    logicals[1,0:2*r1*r2:2*r1] = np.ones(r2) \n",
    "\n",
    "    for i_p, p in enumerate(p_list):\n",
    "        for i_rep in range(Nrep):\n",
    "            loss_inds = np.random.permutation(np.argwhere(np.random.rand(N)<p)[:,0])\n",
    "            succ_prob_tc[i_p,i_L] += succ_prob_calc(B_orig, logicals, s_nodes, loss_inds)\n",
    "           \n",
    "    toc = time.time()\n",
    "    print(\"finished L = %d in %.1f secs\" % (L,toc-tic))\n",
    "\n",
    "succ_prob_tc /= Nrep\n"
   ]
  },
  {
   "cell_type": "code",
   "execution_count": 65,
   "id": "300d6f47-8382-4771-adec-1d33dbb68afb",
   "metadata": {},
   "outputs": [
    {
     "data": {
      "image/png": "[encoded data removed]",
      "text/plain": [
       "<Figure size 432x288 with 1 Axes>"
      ]
     },
     "metadata": {
      "needs_background": "light"
     },
     "output_type": "display_data"
    }
   ],
   "source": [
    "for i_L, L in enumerate(Nl_list):\n",
    "    plt.plot(1-p_list,succ_prob_tc[:,i_L],\".-\", color =\"C%d\" % (i_L+1), label=\"L=%d\" % L)\n",
    "\n",
    "plt.plot(1-p_list,1-p_list,\"k--\")\n",
    "x0 = 0.5  # percolation threshold\n",
    "plt.plot([x0,x0],[0,1],\"k--\")\n",
    "plt.title(\"single layer toric code\")\n",
    "plt.xlabel(\"trans rate\")\n",
    "plt.ylabel(\"eff trans rate\")\n",
    "plt.legend()\n",
    "plt.show()"
   ]
  },
  {
   "cell_type": "markdown",
   "id": "ced9f424-cb45-4c03-a9e9-2190d222603f",
   "metadata": {},
   "source": [
    "## foliated toric code"
   ]
  },
  {
   "cell_type": "code",
   "execution_count": null,
   "id": "cff51f04-33f7-427c-a581-f1aea0fd5b45",
   "metadata": {},
   "outputs": [],
   "source": [
    "Nl_list = np.arange(4,8)\n",
    "p_list = np.linspace(0.15,0.35,8)\n",
    "Nrep = 400\n",
    "succ_prob_3dtc = np.zeros((len(p_list),len(Nl_list)))\n",
    "\n",
    "for i_L, Nl in enumerate(Nl_list):\n",
    "    tic = time.time()\n",
    "    \n",
    "    r1, r2 = Nl, Nl\n",
    "    # in layer stabilizer group\n",
    "    Sx_mat = np.zeros((r1*r2,2*r1*r2),dtype=int)\n",
    "    for i_y in range(r2):\n",
    "        for i_x in range(r1):\n",
    "            Sx_mat[i_y*r1 + i_x, 2*(i_y*r1 + i_x)] = 1\n",
    "            Sx_mat[i_y*r1 + i_x, 2*(i_y*r1 + i_x)+1] = 1\n",
    "            Sx_mat[i_y*r1 + i_x, 2*(i_y*r1+(i_x-1)%r1 )] = 1\n",
    "            Sx_mat[i_y*r1 + i_x, 2*(((i_y-1)%r2)*r1+i_x)+1] = 1\n",
    "\n",
    "    Nq_l = np.size(Sx_mat,1) # number of data qubits per layer\n",
    "    Ns_l = np.size(Sx_mat,0) # number of stabilizers per layer\n",
    "\n",
    "    # Nl: number of layers in foliated code\n",
    "    N = Nl*(Nq_l+Ns_l) # number of data qubits\n",
    "    Ns = Nl*Ns_l # number of stabilizers\n",
    "    B_orig = nx.Graph()\n",
    "    B_orig.add_nodes_from(np.arange(N))\n",
    "    s_nodes = [\"s%d\" % s for s in np.arange(Ns)]\n",
    "    B_orig.add_nodes_from(s_nodes)\n",
    "    for row in range(Ns_l):\n",
    "        qs = np.argwhere(Sx_mat[row,:]>0)[:,0]\n",
    "        for i_l in range(Nl):\n",
    "            B_orig.add_edges_from([(\"s%d\" % ((i_l*Ns_l)+row), i_l*(Nq_l+Ns_l)+q) for q in qs])\n",
    "    for i_l in range(Nl):\n",
    "        B_orig.add_edges_from([(\"s%d\" % ((i_l*Ns_l)+sq), i_l*(Nq_l+Ns_l)+Nq_l+sq) for sq in range(Ns_l)])\n",
    "        B_orig.add_edges_from([(\"s%d\" % ((i_l*Ns_l)+sq), ((i_l-1)%Nl)*(Nq_l+Ns_l)+Nq_l+sq) for sq in range(Ns_l)])\n",
    "\n",
    "    logicals_l = np.zeros((2,2*r1*r2))\n",
    "    logicals_l[0,1:2*r1:2] = np.ones(r1) \n",
    "    logicals_l[1,0:2*r1*r2:2*r1] = np.ones(r2) \n",
    "\n",
    "    logicals = np.zeros((2,N))\n",
    "    for i_l in range(Nl):\n",
    "        logicals[:,i_l*(Nq_l+Ns_l):i_l*(Nq_l+Ns_l)+Nq_l] = logicals_l\n",
    "\n",
    "    for i_p, p in enumerate(p_list):\n",
    "        for i_rep in range(Nrep):\n",
    "            loss_inds = np.random.permutation(np.argwhere(np.random.rand(N)<p)[:,0])        \n",
    "            succ_prob_3dtc[i_p,i_L] += succ_prob_calc(B_orig, logicals, s_nodes, loss_inds)\n",
    "\n",
    "    toc = time.time()\n",
    "    print(\"finished L = %d in %.1f secs\" % (Nl,toc-tic))\n",
    "\n",
    "succ_prob_3dtc /= Nrep"
   ]
  },
  {
   "cell_type": "code",
   "execution_count": 6,
   "id": "78d25d4e-df51-4347-8d4a-d45858cff349",
   "metadata": {},
   "outputs": [
    {
     "data": {
      "image/png": "[encoded data removed]",
      "text/plain": [
       "<Figure size 432x288 with 1 Axes>"
      ]
     },
     "metadata": {
      "needs_background": "light"
     },
     "output_type": "display_data"
    }
   ],
   "source": [
    "for i_L, L in enumerate(Nl_list):\n",
    "    plt.plot(1-p_list,succ_prob_3dtc[:,i_L],\".-\", color =\"C%d\" % (i_L+1), label=\"L=%d\" % L)\n",
    "\n",
    "plt.plot(1-p_list,1-p_list,\"k--\")\n",
    "x0 = 1-0.25  # percolation threshold\n",
    "plt.plot([x0,x0],[0,1],\"k--\")\n",
    "plt.title(\"single layer toric code\")\n",
    "plt.xlabel(\"trans rate\")\n",
    "plt.ylabel(\"eff trans rate\")\n",
    "plt.legend()\n",
    "plt.show()"
   ]
  },
  {
   "cell_type": "code",
   "execution_count": null,
   "id": "f9d53e87-056e-4e45-90ca-8a228ed12649",
   "metadata": {},
   "outputs": [],
   "source": []
  }
 ],
 "metadata": {
  "kernelspec": {
   "display_name": "Python 3 (ipykernel)",
   "language": "python",
   "name": "python3"
  },
  "language_info": {
   "codemirror_mode": {
    "name": "ipython",
    "version": 3
   },
   "file_extension": ".py",
   "mimetype": "text/x-python",
   "name": "python",
   "nbconvert_exporter": "python",
   "pygments_lexer": "ipython3",
   "version": "3.10.4"
  }
 },
 "nbformat": 4,
 "nbformat_minor": 5
}
